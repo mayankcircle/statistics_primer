{
  "nbformat": 4,
  "nbformat_minor": 0,
  "metadata": {
    "colab": {
      "name": "PMF-CDF of Binomial Distribution and T-Shirt Size Problem.ipynb",
      "provenance": [],
      "collapsed_sections": [
        "X4KzUce9A_vW"
      ],
      "authorship_tag": "ABX9TyNhBp/YFN4mvwNfo0WaK3u4",
      "include_colab_link": true
    },
    "kernelspec": {
      "name": "python3",
      "display_name": "Python 3"
    },
    "language_info": {
      "name": "python"
    }
  },
  "cells": [
    {
      "cell_type": "markdown",
      "metadata": {
        "id": "view-in-github",
        "colab_type": "text"
      },
      "source": [
        "<a href=\"https://colab.research.google.com/github/mayankcircle/statistics_primer/blob/main/PMF_CDF_of_Binomial_Distribution_and_T_Shirt_Size_Problem.ipynb\" target=\"_parent\"><img src=\"https://colab.research.google.com/assets/colab-badge.svg\" alt=\"Open In Colab\"/></a>"
      ]
    },
    {
      "cell_type": "markdown",
      "source": [
        "# Binomial Random Variable Distribution"
      ],
      "metadata": {
        "id": "X4KzUce9A_vW"
      }
    },
    {
      "cell_type": "markdown",
      "source": [
        "## PMF and CDF of Binomial random variable"
      ],
      "metadata": {
        "id": "1pg8w4TkgjWv"
      }
    },
    {
      "cell_type": "code",
      "execution_count": null,
      "metadata": {
        "id": "Y6q9CnFQb46d"
      },
      "outputs": [],
      "source": [
        "import pandas as pd\n",
        "import numpy as np\n",
        "import matplotlib.pyplot as plt\n",
        "import seaborn as sns\n",
        "from scipy import stats\n",
        "import math"
      ]
    },
    {
      "cell_type": "markdown",
      "source": [
        "Lets say, we are working on Flights data. Assume, Probability that a person arrives @ airport = 0.902\n",
        "\n",
        "It is avg behaviour across different flights and passengers.\n",
        "\n",
        "Here \"Arrive\" random variable is discrete binary non-uniform and bernaulli random variable.\n",
        "\n",
        "Arrive ~ Bernaulli(p = 0.902)"
      ],
      "metadata": {
        "id": "ZkgzKblzgz3m"
      }
    },
    {
      "cell_type": "code",
      "source": [
        "showsup_probability = 0.902"
      ],
      "metadata": {
        "id": "CDokikBhj5hy"
      },
      "execution_count": null,
      "outputs": []
    },
    {
      "cell_type": "markdown",
      "source": [
        "Lets say, the flight capacity is 100 and we want to calculate the probability of arriving 101 people @ airport out of 110 booked customers?\n",
        "\n",
        "This is Binomial Random Variable represented as X ~ Binomial(n=110,p=0.902)"
      ],
      "metadata": {
        "id": "iFNAcBbHhkgO"
      }
    },
    {
      "cell_type": "markdown",
      "source": [
        "## Creating 1000 Data points from Binomial Random Variable: X ~ Binomial(n=110,p=0.902)"
      ],
      "metadata": {
        "id": "gpVl06u1j90C"
      }
    },
    {
      "cell_type": "code",
      "source": [
        "# getting Binomial distribution\n",
        "showsup_distribution =  stats.binom(n = 110, p= showsup_probability)\n",
        "type(showsup_distribution)"
      ],
      "metadata": {
        "colab": {
          "base_uri": "https://localhost:8080/"
        },
        "id": "yQM4TvEugt3j",
        "outputId": "ca838cbf-dc5d-499d-d7b8-2924f634a283"
      },
      "execution_count": null,
      "outputs": [
        {
          "output_type": "execute_result",
          "data": {
            "text/plain": [
              "scipy.stats._distn_infrastructure.rv_frozen"
            ]
          },
          "metadata": {},
          "execution_count": 5
        }
      ]
    },
    {
      "cell_type": "code",
      "source": [
        "# getting random variates (random sampling from this distribution)\n",
        "showsup_data = showsup_distribution.rvs(1000)\n",
        "showsup_data[:40]"
      ],
      "metadata": {
        "colab": {
          "base_uri": "https://localhost:8080/"
        },
        "id": "B7DrdJn0kfRH",
        "outputId": "af8997aa-6545-45c0-b585-226ef0f745ae"
      },
      "execution_count": null,
      "outputs": [
        {
          "output_type": "execute_result",
          "data": {
            "text/plain": [
              "array([102, 100,  98,  93,  93,  98,  98, 100,  97,  94,  93, 100, 103,\n",
              "        99, 106,  98,  98,  95, 102, 102,  99, 101,  97,  99,  98,  97,\n",
              "       100,  95, 100,  99,  95, 101, 100,  95,  95,  96,  91,  96, 104,\n",
              "       102])"
            ]
          },
          "metadata": {},
          "execution_count": 6
        }
      ]
    },
    {
      "cell_type": "markdown",
      "source": [
        "## Creating PMF from Discrete Random Variable -> Binomial Distribution X"
      ],
      "metadata": {
        "id": "CDPNsgdLAbim"
      }
    },
    {
      "cell_type": "code",
      "source": [
        "# One way to plot PMF is draw Smoothed Histogram\n",
        "sns.histplot(showsup_data, bins = 18, kde = True)\n",
        "plt.xlabel(\"Number of Passengers Showed Up\")\n",
        "plt.ylabel(\"Count\")\n",
        "plt.grid()\n",
        "plt.show()"
      ],
      "metadata": {
        "colab": {
          "base_uri": "https://localhost:8080/",
          "height": 279
        },
        "id": "4qqt165ekhVX",
        "outputId": "bc75c3a8-40e1-4c34-d464-9d16db702b2a"
      },
      "execution_count": null,
      "outputs": [
        {
          "output_type": "display_data",
          "data": {
            "text/plain": [
              "<Figure size 432x288 with 1 Axes>"
            ],
            "image/png": "[encoded data removed]"
          },
          "metadata": {
            "needs_background": "light"
          }
        }
      ]
    },
    {
      "cell_type": "markdown",
      "source": [
        "**Above PMF shows the Binomial Distribution OR Probabilities for arriving any number of persons @ airport out of total booked 110 Customers**"
      ],
      "metadata": {
        "id": "1MfosydPB12a"
      }
    },
    {
      "cell_type": "markdown",
      "source": [
        "**Here, PMF is gaussian or Normal**"
      ],
      "metadata": {
        "id": "OoewUAUXCSxL"
      }
    },
    {
      "cell_type": "markdown",
      "source": [
        "It shows Mostly (On average), we will get around 100 people on flight if we book for 110 Customers"
      ],
      "metadata": {
        "id": "wqNV6C2hCZcT"
      }
    },
    {
      "cell_type": "markdown",
      "source": [
        "## Creating CDF from Discrete Random Variable -> Binomial Distribution X"
      ],
      "metadata": {
        "id": "DQbPRj1vDKPM"
      }
    },
    {
      "cell_type": "code",
      "source": [
        "x = np.linspace(80, 115)\n",
        "cdf = showsup_distribution.cdf(x)\n",
        "plt.plot(x, cdf)\n",
        "plt.xlabel(\"X-values\")\n",
        "plt.ylabel(\"Probabilities\")\n",
        "plt.title(\"CDF of binomial distribution\")\n",
        "plt.grid()\n",
        "plt.show()"
      ],
      "metadata": {
        "colab": {
          "base_uri": "https://localhost:8080/",
          "height": 295
        },
        "id": "5GGEDcAIBaAa",
        "outputId": "f5909fe3-4654-4868-8952-f3026edec01b"
      },
      "execution_count": null,
      "outputs": [
        {
          "output_type": "display_data",
          "data": {
            "text/plain": [
              "<Figure size 432x288 with 1 Axes>"
            ],
            "image/png": "[encoded data removed]"
          },
          "metadata": {
            "needs_background": "light"
          }
        }
      ]
    },
    {
      "cell_type": "markdown",
      "source": [
        "By CDF, we can say-\n",
        "\n",
        "\n",
        "*   There is ~65% probability that <= 100 customers arrived @ airport out of 110 booked customers (Or in other words, There is 35% probability that we get more than 100 customers @ airport out of 110 booked customers)\n",
        "*   There is ~ 0 % probability that we get <= 85 customers @ airport out of 110 booked customers\n",
        "\n"
      ],
      "metadata": {
        "id": "KtiKmGApD7Po"
      }
    },
    {
      "cell_type": "markdown",
      "source": [
        "# TShirt Size Problem"
      ],
      "metadata": {
        "id": "X1AnmgFxTa1h"
      }
    },
    {
      "cell_type": "markdown",
      "source": [
        "You are working a Data Scientist in HR Team. You have random statistically valid Height data for few employees in the company.\n",
        "\n",
        "Each Tshirt size can be XS, M, L, XL,XXL etc.\n",
        "\n",
        "Lets say, Tshirt size mapping is-\n",
        "\n",
        "1. \"< 150 cm\" : XXS\n",
        "2. 150-155 cm : XS\n",
        "3. 155-160 cm : S\n",
        "4. 160-170 cm : M\n",
        "5. 170-180 cm : L\n",
        "6. \"180+\" : XL\n",
        "\n",
        "**How much Tshirt of each size we should order for all employees of the company? [We have only sample of employees data]**"
      ],
      "metadata": {
        "id": "Vg7_Uz1GBMdU"
      }
    },
    {
      "cell_type": "code",
      "source": [
        "employees = pd.read_csv(\"employees.csv\")"
      ],
      "metadata": {
        "id": "xn51DybsEw1E"
      },
      "execution_count": null,
      "outputs": []
    },
    {
      "cell_type": "code",
      "source": [
        "employees.info()"
      ],
      "metadata": {
        "colab": {
          "base_uri": "https://localhost:8080/"
        },
        "id": "CroGkIXnThhB",
        "outputId": "10aae011-a894-4cad-b6ce-316354b2e6d9"
      },
      "execution_count": null,
      "outputs": [
        {
          "output_type": "stream",
          "name": "stdout",
          "text": [
            "<class 'pandas.core.frame.DataFrame'>\n",
            "RangeIndex: 1470 entries, 0 to 1469\n",
            "Data columns (total 9 columns):\n",
            " #   Column            Non-Null Count  Dtype \n",
            "---  ------            --------------  ----- \n",
            " 0   Age               1470 non-null   int64 \n",
            " 1   Department        1470 non-null   object\n",
            " 2   DistanceFromHome  1470 non-null   int64 \n",
            " 3   Education         1470 non-null   int64 \n",
            " 4   EmployeeNumber    1470 non-null   int64 \n",
            " 5   Gender            1470 non-null   object\n",
            " 6   Height            1470 non-null   int64 \n",
            " 7   MaritalStatus     1470 non-null   object\n",
            " 8   MonthlyIncome     1470 non-null   int64 \n",
            "dtypes: int64(6), object(3)\n",
            "memory usage: 103.5+ KB\n"
          ]
        }
      ]
    },
    {
      "cell_type": "code",
      "source": [
        "employees.head()"
      ],
      "metadata": {
        "colab": {
          "base_uri": "https://localhost:8080/",
          "height": 204
        },
        "id": "-PokyYlnTkCj",
        "outputId": "d048dbdd-9bf6-45a6-dc2e-95fe6de8a74f"
      },
      "execution_count": null,
      "outputs": [
        {
          "output_type": "execute_result",
          "data": {
            "text/plain": [
              "   Age              Department  DistanceFromHome  Education  EmployeeNumber  \\\n",
              "0   41                   Sales                 1          2               1   \n",
              "1   49  Research & Development                 8          1               2   \n",
              "2   37  Research & Development                 2          2               4   \n",
              "3   33  Research & Development                 3          4               5   \n",
              "4   27  Research & Development                 2          1               7   \n",
              "\n",
              "   Gender  Height MaritalStatus  MonthlyIncome  \n",
              "0  Female     154        Single           5993  \n",
              "1    Male     168       Married           5130  \n",
              "2    Male     163        Single           2090  \n",
              "3  Female     161       Married           2909  \n",
              "4    Male     157       Married           3468  "
            ],
            "text/html": [
              "\n",
              "  <div id=\"df-312259f9-7400-4c44-9944-0dcae2f025c7\">\n",
              "    <div class=\"colab-df-container\">\n",
              "      <div>\n",
              "<style scoped>\n",
              "    .dataframe tbody tr th:only-of-type {\n",
              "        vertical-align: middle;\n",
              "    }\n",
              "\n",
              "    .dataframe tbody tr th {\n",
              "        vertical-align: top;\n",
              "    }\n",
              "\n",
              "    .dataframe thead th {\n",
              "        text-align: right;\n",
              "    }\n",
              "</style>\n",
              "<table border=\"1\" class=\"dataframe\">\n",
              "  <thead>\n",
              "    <tr style=\"text-align: right;\">\n",
              "      <th></th>\n",
              "      <th>Age</th>\n",
              "      <th>Department</th>\n",
              "      <th>DistanceFromHome</th>\n",
              "      <th>Education</th>\n",
              "      <th>EmployeeNumber</th>\n",
              "      <th>Gender</th>\n",
              "      <th>Height</th>\n",
              "      <th>MaritalStatus</th>\n",
              "      <th>MonthlyIncome</th>\n",
              "    </tr>\n",
              "  </thead>\n",
              "  <tbody>\n",
              "    <tr>\n",
              "      <th>0</th>\n",
              "      <td>41</td>\n",
              "      <td>Sales</td>\n",
              "      <td>1</td>\n",
              "      <td>2</td>\n",
              "      <td>1</td>\n",
              "      <td>Female</td>\n",
              "      <td>154</td>\n",
              "      <td>Single</td>\n",
              "      <td>5993</td>\n",
              "    </tr>\n",
              "    <tr>\n",
              "      <th>1</th>\n",
              "      <td>49</td>\n",
              "      <td>Research &amp; Development</td>\n",
              "      <td>8</td>\n",
              "      <td>1</td>\n",
              "      <td>2</td>\n",
              "      <td>Male</td>\n",
              "      <td>168</td>\n",
              "      <td>Married</td>\n",
              "      <td>5130</td>\n",
              "    </tr>\n",
              "    <tr>\n",
              "      <th>2</th>\n",
              "      <td>37</td>\n",
              "      <td>Research &amp; Development</td>\n",
              "      <td>2</td>\n",
              "      <td>2</td>\n",
              "      <td>4</td>\n",
              "      <td>Male</td>\n",
              "      <td>163</td>\n",
              "      <td>Single</td>\n",
              "      <td>2090</td>\n",
              "    </tr>\n",
              "    <tr>\n",
              "      <th>3</th>\n",
              "      <td>33</td>\n",
              "      <td>Research &amp; Development</td>\n",
              "      <td>3</td>\n",
              "      <td>4</td>\n",
              "      <td>5</td>\n",
              "      <td>Female</td>\n",
              "      <td>161</td>\n",
              "      <td>Married</td>\n",
              "      <td>2909</td>\n",
              "    </tr>\n",
              "    <tr>\n",
              "      <th>4</th>\n",
              "      <td>27</td>\n",
              "      <td>Research &amp; Development</td>\n",
              "      <td>2</td>\n",
              "      <td>1</td>\n",
              "      <td>7</td>\n",
              "      <td>Male</td>\n",
              "      <td>157</td>\n",
              "      <td>Married</td>\n",
              "      <td>3468</td>\n",
              "    </tr>\n",
              "  </tbody>\n",
              "</table>\n",
              "</div>\n",
              "      <button class=\"colab-df-convert\" onclick=\"convertToInteractive('df-312259f9-7400-4c44-9944-0dcae2f025c7')\"\n",
              "              title=\"Convert this dataframe to an interactive table.\"\n",
              "              style=\"display:none;\">\n",
              "        \n",
              "  <svg xmlns=\"http://www.w3.org/2000/svg\" height=\"24px\"viewBox=\"0 0 24 24\"\n",
              "       width=\"24px\">\n",
              "    <path d=\"M0 0h24v24H0V0z\" fill=\"none\"/>\n",
              "    <path d=\"M18.56 5.44l.94 2.06.94-2.06 2.06-.94-2.06-.94-.94-2.06-.94 2.06-2.06.94zm-11 1L8.5 8.5l.94-2.06 2.06-.94-2.06-.94L8.5 2.5l-.94 2.06-2.06.94zm10 10l.94 2.06.94-2.06 2.06-.94-2.06-.94-.94-2.06-.94 2.06-2.06.94z\"/><path d=\"M17.41 7.96l-1.37-1.37c-.4-.4-.92-.59-1.43-.59-.52 0-1.04.2-1.43.59L10.3 9.45l-7.72 7.72c-.78.78-.78 2.05 0 2.83L4 21.41c.39.39.9.59 1.41.59.51 0 1.02-.2 1.41-.59l7.78-7.78 2.81-2.81c.8-.78.8-2.07 0-2.86zM5.41 20L4 18.59l7.72-7.72 1.47 1.35L5.41 20z\"/>\n",
              "  </svg>\n",
              "      </button>\n",
              "      \n",
              "  <style>\n",
              "    .colab-df-container {\n",
              "      display:flex;\n",
              "      flex-wrap:wrap;\n",
              "      gap: 12px;\n",
              "    }\n",
              "\n",
              "    .colab-df-convert {\n",
              "      background-color: #E8F0FE;\n",
              "      border: none;\n",
              "      border-radius: 50%;\n",
              "      cursor: pointer;\n",
              "      display: none;\n",
              "      fill: #1967D2;\n",
              "      height: 32px;\n",
              "      padding: 0 0 0 0;\n",
              "      width: 32px;\n",
              "    }\n",
              "\n",
              "    .colab-df-convert:hover {\n",
              "      background-color: #E2EBFA;\n",
              "      box-shadow: 0px 1px 2px rgba(60, 64, 67, 0.3), 0px 1px 3px 1px rgba(60, 64, 67, 0.15);\n",
              "      fill: #174EA6;\n",
              "    }\n",
              "\n",
              "    [theme=dark] .colab-df-convert {\n",
              "      background-color: #3B4455;\n",
              "      fill: #D2E3FC;\n",
              "    }\n",
              "\n",
              "    [theme=dark] .colab-df-convert:hover {\n",
              "      background-color: #434B5C;\n",
              "      box-shadow: 0px 1px 3px 1px rgba(0, 0, 0, 0.15);\n",
              "      filter: drop-shadow(0px 1px 2px rgba(0, 0, 0, 0.3));\n",
              "      fill: #FFFFFF;\n",
              "    }\n",
              "  </style>\n",
              "\n",
              "      <script>\n",
              "        const buttonEl =\n",
              "          document.querySelector('#df-312259f9-7400-4c44-9944-0dcae2f025c7 button.colab-df-convert');\n",
              "        buttonEl.style.display =\n",
              "          google.colab.kernel.accessAllowed ? 'block' : 'none';\n",
              "\n",
              "        async function convertToInteractive(key) {\n",
              "          const element = document.querySelector('#df-312259f9-7400-4c44-9944-0dcae2f025c7');\n",
              "          const dataTable =\n",
              "            await google.colab.kernel.invokeFunction('convertToInteractive',\n",
              "                                                     [key], {});\n",
              "          if (!dataTable) return;\n",
              "\n",
              "          const docLinkHtml = 'Like what you see? Visit the ' +\n",
              "            '<a target=\"_blank\" href=https://colab.research.google.com/notebooks/data_table.ipynb>data table notebook</a>'\n",
              "            + ' to learn more about interactive tables.';\n",
              "          element.innerHTML = '';\n",
              "          dataTable['output_type'] = 'display_data';\n",
              "          await google.colab.output.renderOutput(dataTable, element);\n",
              "          const docLink = document.createElement('div');\n",
              "          docLink.innerHTML = docLinkHtml;\n",
              "          element.appendChild(docLink);\n",
              "        }\n",
              "      </script>\n",
              "    </div>\n",
              "  </div>\n",
              "  "
            ]
          },
          "metadata": {},
          "execution_count": 11
        }
      ]
    },
    {
      "cell_type": "markdown",
      "source": [
        "**In Tshirt Size problem, Only Gender and Height are the relevant features.**"
      ],
      "metadata": {
        "id": "39_Bhmq4Tnj5"
      }
    },
    {
      "cell_type": "markdown",
      "source": [
        "### Plot Height Distribution (Equivalent to PDF)"
      ],
      "metadata": {
        "id": "ihPmjm9pEJct"
      }
    },
    {
      "cell_type": "code",
      "source": [
        "employees[\"Height\"].plot(kind=\"hist\",bins=50)\n",
        "plt.grid()\n",
        "plt.show()"
      ],
      "metadata": {
        "id": "kOPf9c8NTm1U",
        "colab": {
          "base_uri": "https://localhost:8080/",
          "height": 265
        },
        "outputId": "9c35b28a-741c-4ecc-95d5-66fea42bc967"
      },
      "execution_count": null,
      "outputs": [
        {
          "output_type": "display_data",
          "data": {
            "text/plain": [
              "<Figure size 432x288 with 1 Axes>"
            ],
            "image/png": "[encoded data removed]"
          },
          "metadata": {
            "needs_background": "light"
          }
        }
      ]
    },
    {
      "cell_type": "markdown",
      "source": [
        "We know that following Natural phenomenons are following always Normal OR Gaussian Distribution -\n",
        "\n",
        "\n",
        "1.   Heights\n",
        "2.   Birth Weights\n",
        "3.   Shoe-sizes\n",
        "4.   mesurement errors\n",
        "5.   size of leaves/petals\n",
        "\n"
      ],
      "metadata": {
        "id": "qYL-70_GJi69"
      }
    },
    {
      "cell_type": "markdown",
      "source": [
        "## Sample Mean and Std deviation of Height"
      ],
      "metadata": {
        "id": "epgVph13EIbe"
      }
    },
    {
      "cell_type": "code",
      "source": [
        "sample_mean = employees[\"Height\"].mean()\n",
        "sample_stddev = employees[\"Height\"].std()\n",
        "\n",
        "print(\"sample_mean: \",sample_mean,\" sample_stddev: \",sample_stddev)"
      ],
      "metadata": {
        "colab": {
          "base_uri": "https://localhost:8080/"
        },
        "id": "-bSWH4CcUcC1",
        "outputId": "b1af8a89-e77e-4566-def0-31e803ea3c5d"
      },
      "execution_count": null,
      "outputs": [
        {
          "output_type": "stream",
          "name": "stdout",
          "text": [
            "sample_mean:  164.6734693877551  sample_stddev:  6.887961959078209\n"
          ]
        }
      ]
    },
    {
      "cell_type": "markdown",
      "source": [
        "## Strategy"
      ],
      "metadata": {
        "id": "5UA-dIWIVJw7"
      }
    },
    {
      "cell_type": "markdown",
      "source": [
        "**We had the 1470 employees data (Sample). Since we know that Height follows Normal Distribution, we computed our Statistical model which is Normal Distribution (mean, std dev)**\n",
        "\n",
        "**Now we can generate 10K employees data from this statistical model**"
      ],
      "metadata": {
        "id": "dzup_hBNVNEJ"
      }
    },
    {
      "cell_type": "code",
      "source": [
        "# Making a Normal Distribution\n",
        "height_dist = stats.norm(loc = sample_mean, scale = sample_stddev)\n"
      ],
      "metadata": {
        "id": "Siygc6lXUtnX"
      },
      "execution_count": null,
      "outputs": []
    },
    {
      "cell_type": "code",
      "source": [
        "# create 10K data points (Employees) from Normal Distribution\n",
        "population_height = height_dist.rvs(10000)"
      ],
      "metadata": {
        "id": "mKjzv50DFkum"
      },
      "execution_count": null,
      "outputs": []
    },
    {
      "cell_type": "code",
      "source": [
        "# Visualize Smoothed Histogram (We can refer it as PDF)\n",
        "sns.histplot(population_height, kde=True, stat=\"density\")"
      ],
      "metadata": {
        "colab": {
          "base_uri": "https://localhost:8080/",
          "height": 282
        },
        "id": "qNuX3UKYFcZ5",
        "outputId": "50645708-e02e-4b72-b7c8-131c39a8569d"
      },
      "execution_count": null,
      "outputs": [
        {
          "output_type": "execute_result",
          "data": {
            "text/plain": [
              "<matplotlib.axes._subplots.AxesSubplot at 0x7f927719d110>"
            ]
          },
          "metadata": {},
          "execution_count": 16
        },
        {
          "output_type": "display_data",
          "data": {
            "text/plain": [
              "<Figure size 432x288 with 1 Axes>"
            ],
            "image/png": "[encoded data removed]"
          },
          "metadata": {
            "needs_background": "light"
          }
        }
      ]
    },
    {
      "cell_type": "code",
      "source": [
        "# Compute PDF (Mathematically, PDF and Smooth Hist are different, It is computed by derivative of CDF)\n",
        "x = np.arange(120,200)\n",
        "\n",
        "# plotting PDF with Scipy\n",
        "pdf = height_dist.pdf(x)\n",
        "plt.plot(x,pdf)\n",
        "plt.xlabel(\"Heights\")\n",
        "plt.ylabel(\"Probabilities\")\n",
        "plt.title(\"PDF of Normal Distribution\")\n",
        "plt.grid()\n",
        "plt.show()\n"
      ],
      "metadata": {
        "colab": {
          "base_uri": "https://localhost:8080/",
          "height": 295
        },
        "id": "ig_yjuf6JTU_",
        "outputId": "22fcda1e-ba8a-41d1-84eb-67b36ca3549c"
      },
      "execution_count": null,
      "outputs": [
        {
          "output_type": "display_data",
          "data": {
            "text/plain": [
              "<Figure size 432x288 with 1 Axes>"
            ],
            "image/png": "[encoded data removed]"
          },
          "metadata": {
            "needs_background": "light"
          }
        }
      ]
    },
    {
      "cell_type": "markdown",
      "source": [
        "## Total XXS T-shirts to order for 10K population (employees of the company)"
      ],
      "metadata": {
        "id": "MhElFQkpM9PF"
      }
    },
    {
      "cell_type": "markdown",
      "source": [
        "XXS size means \"< 150 cm\" "
      ],
      "metadata": {
        "id": "wMS6zAAdOTN3"
      }
    },
    {
      "cell_type": "code",
      "source": [
        "height_150 = height_dist.cdf(x = 150) # P(X <= 150)\n",
        "height_150"
      ],
      "metadata": {
        "colab": {
          "base_uri": "https://localhost:8080/"
        },
        "id": "yl4FaoQSKsJr",
        "outputId": "2e8b6d9b-7b79-4935-90ae-ba473dd04425"
      },
      "execution_count": null,
      "outputs": [
        {
          "output_type": "execute_result",
          "data": {
            "text/plain": [
              "0.016573163101179463"
            ]
          },
          "metadata": {},
          "execution_count": 23
        }
      ]
    },
    {
      "cell_type": "code",
      "source": [
        "math.ceil(height_150 * 10000) # Total employees having heights <= 150"
      ],
      "metadata": {
        "colab": {
          "base_uri": "https://localhost:8080/"
        },
        "id": "TTFcpW1_NKym",
        "outputId": "bbb3956c-b7f7-417e-a806-dc22927d6896"
      },
      "execution_count": null,
      "outputs": [
        {
          "output_type": "execute_result",
          "data": {
            "text/plain": [
              "166"
            ]
          },
          "metadata": {},
          "execution_count": 25
        }
      ]
    },
    {
      "cell_type": "markdown",
      "source": [
        "We should order 166 T-shirts of size XXS."
      ],
      "metadata": {
        "id": "cev8oOklNHj7"
      }
    },
    {
      "cell_type": "markdown",
      "source": [
        "## Total M T-shirts to order for 10K population (employees of the company)"
      ],
      "metadata": {
        "id": "e3R7uKCuOd6_"
      }
    },
    {
      "cell_type": "markdown",
      "source": [
        "M size means 160 to 170 cm"
      ],
      "metadata": {
        "id": "zVX8ATwSOiso"
      }
    },
    {
      "cell_type": "code",
      "source": [
        "height_160 = height_dist.cdf(x = 160) # P(X <= 160)\n",
        "height_170 = height_dist.cdf(x = 170) # P(X <= 170)\n",
        "\n",
        "height_160_170 = height_170 - height_160\n",
        "height_160_170\n"
      ],
      "metadata": {
        "colab": {
          "base_uri": "https://localhost:8080/"
        },
        "id": "_R-dOZ2DObiQ",
        "outputId": "ff26d8a4-1063-42ba-e560-98deaa87cddf"
      },
      "execution_count": null,
      "outputs": [
        {
          "output_type": "execute_result",
          "data": {
            "text/plain": [
              "0.5316026117915521"
            ]
          },
          "metadata": {},
          "execution_count": 26
        }
      ]
    },
    {
      "cell_type": "code",
      "source": [
        "math.ceil(height_160_170 * 10000) # Total employees having heights between 160 to 170"
      ],
      "metadata": {
        "colab": {
          "base_uri": "https://localhost:8080/"
        },
        "id": "MgwgfdVfO4oB",
        "outputId": "9f32755e-cbfa-4a2e-a985-88a9bf7b37da"
      },
      "execution_count": null,
      "outputs": [
        {
          "output_type": "execute_result",
          "data": {
            "text/plain": [
              "5317"
            ]
          },
          "metadata": {},
          "execution_count": 27
        }
      ]
    },
    {
      "cell_type": "markdown",
      "source": [
        "We should order 5317 Tshirts for M size."
      ],
      "metadata": {
        "id": "kW09TPxGPCnJ"
      }
    },
    {
      "cell_type": "code",
      "source": [
        "height_160"
      ],
      "metadata": {
        "colab": {
          "base_uri": "https://localhost:8080/"
        },
        "id": "GFt5mPkyPIWM",
        "outputId": "5ef7144d-0073-446f-eb34-c427de167e93"
      },
      "execution_count": null,
      "outputs": [
        {
          "output_type": "execute_result",
          "data": {
            "text/plain": [
              "0.2487279509102499"
            ]
          },
          "metadata": {},
          "execution_count": 28
        }
      ]
    },
    {
      "cell_type": "code",
      "source": [
        "height_170"
      ],
      "metadata": {
        "colab": {
          "base_uri": "https://localhost:8080/"
        },
        "id": "SIANFkQLPbi_",
        "outputId": "616d6fb5-2a24-49a7-c96f-87dc3b82b76d"
      },
      "execution_count": null,
      "outputs": [
        {
          "output_type": "execute_result",
          "data": {
            "text/plain": [
              "0.780330562701802"
            ]
          },
          "metadata": {},
          "execution_count": 29
        }
      ]
    }
  ]
}