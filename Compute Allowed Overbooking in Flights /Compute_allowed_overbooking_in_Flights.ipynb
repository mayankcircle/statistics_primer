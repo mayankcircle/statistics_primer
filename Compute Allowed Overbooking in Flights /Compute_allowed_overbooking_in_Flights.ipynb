{
  "nbformat": 4,
  "nbformat_minor": 0,
  "metadata": {
    "colab": {
      "name": "Compute allowed overbooking in Flights.ipynb",
      "provenance": [],
      "collapsed_sections": [],
      "toc_visible": true,
      "authorship_tag": "ABX9TyOK2MYqDyNZB/HuyJEAUGzk",
      "include_colab_link": true
    },
    "kernelspec": {
      "name": "python3",
      "display_name": "Python 3"
    },
    "language_info": {
      "name": "python"
    }
  },
  "cells": [
    {
      "cell_type": "markdown",
      "metadata": {
        "id": "view-in-github",
        "colab_type": "text"
      },
      "source": [
        "<a href=\"https://colab.research.google.com/github/mayankcircle/statistics_primer/blob/main/Compute_allowed_overbooking_in_Flights.ipynb\" target=\"_parent\"><img src=\"https://colab.research.google.com/assets/colab-badge.svg\" alt=\"Open In Colab\"/></a>"
      ]
    },
    {
      "cell_type": "code",
      "execution_count": 1,
      "metadata": {
        "id": "Wlg8ywhEsoZd"
      },
      "outputs": [],
      "source": [
        "import pandas as pd\n",
        "import numpy as np\n",
        "import matplotlib.pyplot as plt\n",
        "import seaborn as sns\n",
        "from scipy import stats\n",
        "\n",
        "import plotly.graph_objects as go"
      ]
    },
    {
      "cell_type": "code",
      "source": [
        "data = pd.read_csv(\"Flight.csv\")\n",
        "data.head()"
      ],
      "metadata": {
        "colab": {
          "base_uri": "https://localhost:8080/",
          "height": 204
        },
        "id": "3h7p3wsWtFAN",
        "outputId": "cc518367-8713-4609-9b90-fc57ab09f9ca"
      },
      "execution_count": 3,
      "outputs": [
        {
          "output_type": "execute_result",
          "data": {
            "text/plain": [
              "   Passenger_ID Flight_ID  Arrived\n",
              "0          1811     A320         1\n",
              "1          1812     A320         1\n",
              "2          1813      B777        1\n",
              "3          1814      B737        1\n",
              "4          1815      B737        1"
            ],
            "text/html": [
              "\n",
              "  <div id=\"df-37b6f3d0-fd84-4d16-9aca-eba5c08bdc16\">\n",
              "    <div class=\"colab-df-container\">\n",
              "      <div>\n",
              "<style scoped>\n",
              "    .dataframe tbody tr th:only-of-type {\n",
              "        vertical-align: middle;\n",
              "    }\n",
              "\n",
              "    .dataframe tbody tr th {\n",
              "        vertical-align: top;\n",
              "    }\n",
              "\n",
              "    .dataframe thead th {\n",
              "        text-align: right;\n",
              "    }\n",
              "</style>\n",
              "<table border=\"1\" class=\"dataframe\">\n",
              "  <thead>\n",
              "    <tr style=\"text-align: right;\">\n",
              "      <th></th>\n",
              "      <th>Passenger_ID</th>\n",
              "      <th>Flight_ID</th>\n",
              "      <th>Arrived</th>\n",
              "    </tr>\n",
              "  </thead>\n",
              "  <tbody>\n",
              "    <tr>\n",
              "      <th>0</th>\n",
              "      <td>1811</td>\n",
              "      <td>A320</td>\n",
              "      <td>1</td>\n",
              "    </tr>\n",
              "    <tr>\n",
              "      <th>1</th>\n",
              "      <td>1812</td>\n",
              "      <td>A320</td>\n",
              "      <td>1</td>\n",
              "    </tr>\n",
              "    <tr>\n",
              "      <th>2</th>\n",
              "      <td>1813</td>\n",
              "      <td>B777</td>\n",
              "      <td>1</td>\n",
              "    </tr>\n",
              "    <tr>\n",
              "      <th>3</th>\n",
              "      <td>1814</td>\n",
              "      <td>B737</td>\n",
              "      <td>1</td>\n",
              "    </tr>\n",
              "    <tr>\n",
              "      <th>4</th>\n",
              "      <td>1815</td>\n",
              "      <td>B737</td>\n",
              "      <td>1</td>\n",
              "    </tr>\n",
              "  </tbody>\n",
              "</table>\n",
              "</div>\n",
              "      <button class=\"colab-df-convert\" onclick=\"convertToInteractive('df-37b6f3d0-fd84-4d16-9aca-eba5c08bdc16')\"\n",
              "              title=\"Convert this dataframe to an interactive table.\"\n",
              "              style=\"display:none;\">\n",
              "        \n",
              "  <svg xmlns=\"http://www.w3.org/2000/svg\" height=\"24px\"viewBox=\"0 0 24 24\"\n",
              "       width=\"24px\">\n",
              "    <path d=\"M0 0h24v24H0V0z\" fill=\"none\"/>\n",
              "    <path d=\"M18.56 5.44l.94 2.06.94-2.06 2.06-.94-2.06-.94-.94-2.06-.94 2.06-2.06.94zm-11 1L8.5 8.5l.94-2.06 2.06-.94-2.06-.94L8.5 2.5l-.94 2.06-2.06.94zm10 10l.94 2.06.94-2.06 2.06-.94-2.06-.94-.94-2.06-.94 2.06-2.06.94z\"/><path d=\"M17.41 7.96l-1.37-1.37c-.4-.4-.92-.59-1.43-.59-.52 0-1.04.2-1.43.59L10.3 9.45l-7.72 7.72c-.78.78-.78 2.05 0 2.83L4 21.41c.39.39.9.59 1.41.59.51 0 1.02-.2 1.41-.59l7.78-7.78 2.81-2.81c.8-.78.8-2.07 0-2.86zM5.41 20L4 18.59l7.72-7.72 1.47 1.35L5.41 20z\"/>\n",
              "  </svg>\n",
              "      </button>\n",
              "      \n",
              "  <style>\n",
              "    .colab-df-container {\n",
              "      display:flex;\n",
              "      flex-wrap:wrap;\n",
              "      gap: 12px;\n",
              "    }\n",
              "\n",
              "    .colab-df-convert {\n",
              "      background-color: #E8F0FE;\n",
              "      border: none;\n",
              "      border-radius: 50%;\n",
              "      cursor: pointer;\n",
              "      display: none;\n",
              "      fill: #1967D2;\n",
              "      height: 32px;\n",
              "      padding: 0 0 0 0;\n",
              "      width: 32px;\n",
              "    }\n",
              "\n",
              "    .colab-df-convert:hover {\n",
              "      background-color: #E2EBFA;\n",
              "      box-shadow: 0px 1px 2px rgba(60, 64, 67, 0.3), 0px 1px 3px 1px rgba(60, 64, 67, 0.15);\n",
              "      fill: #174EA6;\n",
              "    }\n",
              "\n",
              "    [theme=dark] .colab-df-convert {\n",
              "      background-color: #3B4455;\n",
              "      fill: #D2E3FC;\n",
              "    }\n",
              "\n",
              "    [theme=dark] .colab-df-convert:hover {\n",
              "      background-color: #434B5C;\n",
              "      box-shadow: 0px 1px 3px 1px rgba(0, 0, 0, 0.15);\n",
              "      filter: drop-shadow(0px 1px 2px rgba(0, 0, 0, 0.3));\n",
              "      fill: #FFFFFF;\n",
              "    }\n",
              "  </style>\n",
              "\n",
              "      <script>\n",
              "        const buttonEl =\n",
              "          document.querySelector('#df-37b6f3d0-fd84-4d16-9aca-eba5c08bdc16 button.colab-df-convert');\n",
              "        buttonEl.style.display =\n",
              "          google.colab.kernel.accessAllowed ? 'block' : 'none';\n",
              "\n",
              "        async function convertToInteractive(key) {\n",
              "          const element = document.querySelector('#df-37b6f3d0-fd84-4d16-9aca-eba5c08bdc16');\n",
              "          const dataTable =\n",
              "            await google.colab.kernel.invokeFunction('convertToInteractive',\n",
              "                                                     [key], {});\n",
              "          if (!dataTable) return;\n",
              "\n",
              "          const docLinkHtml = 'Like what you see? Visit the ' +\n",
              "            '<a target=\"_blank\" href=https://colab.research.google.com/notebooks/data_table.ipynb>data table notebook</a>'\n",
              "            + ' to learn more about interactive tables.';\n",
              "          element.innerHTML = '';\n",
              "          dataTable['output_type'] = 'display_data';\n",
              "          await google.colab.output.renderOutput(dataTable, element);\n",
              "          const docLink = document.createElement('div');\n",
              "          docLink.innerHTML = docLinkHtml;\n",
              "          element.appendChild(docLink);\n",
              "        }\n",
              "      </script>\n",
              "    </div>\n",
              "  </div>\n",
              "  "
            ]
          },
          "metadata": {},
          "execution_count": 3
        }
      ]
    },
    {
      "cell_type": "code",
      "source": [
        "data.describe()"
      ],
      "metadata": {
        "colab": {
          "base_uri": "https://localhost:8080/",
          "height": 297
        },
        "id": "vthQNn0PtMAL",
        "outputId": "40ebb182-b974-4055-8790-2183e2cf24b8"
      },
      "execution_count": 3,
      "outputs": [
        {
          "output_type": "execute_result",
          "data": {
            "text/plain": [
              "       Passenger_ID      Arrived\n",
              "count   1000.000000  1000.000000\n",
              "mean    2310.500000     0.902000\n",
              "std      288.819436     0.297463\n",
              "min     1811.000000     0.000000\n",
              "25%     2060.750000     1.000000\n",
              "50%     2310.500000     1.000000\n",
              "75%     2560.250000     1.000000\n",
              "max     2810.000000     1.000000"
            ],
            "text/html": [
              "\n",
              "  <div id=\"df-6584e6d6-b474-4e4e-aa6b-c026db166162\">\n",
              "    <div class=\"colab-df-container\">\n",
              "      <div>\n",
              "<style scoped>\n",
              "    .dataframe tbody tr th:only-of-type {\n",
              "        vertical-align: middle;\n",
              "    }\n",
              "\n",
              "    .dataframe tbody tr th {\n",
              "        vertical-align: top;\n",
              "    }\n",
              "\n",
              "    .dataframe thead th {\n",
              "        text-align: right;\n",
              "    }\n",
              "</style>\n",
              "<table border=\"1\" class=\"dataframe\">\n",
              "  <thead>\n",
              "    <tr style=\"text-align: right;\">\n",
              "      <th></th>\n",
              "      <th>Passenger_ID</th>\n",
              "      <th>Arrived</th>\n",
              "    </tr>\n",
              "  </thead>\n",
              "  <tbody>\n",
              "    <tr>\n",
              "      <th>count</th>\n",
              "      <td>1000.000000</td>\n",
              "      <td>1000.000000</td>\n",
              "    </tr>\n",
              "    <tr>\n",
              "      <th>mean</th>\n",
              "      <td>2310.500000</td>\n",
              "      <td>0.902000</td>\n",
              "    </tr>\n",
              "    <tr>\n",
              "      <th>std</th>\n",
              "      <td>288.819436</td>\n",
              "      <td>0.297463</td>\n",
              "    </tr>\n",
              "    <tr>\n",
              "      <th>min</th>\n",
              "      <td>1811.000000</td>\n",
              "      <td>0.000000</td>\n",
              "    </tr>\n",
              "    <tr>\n",
              "      <th>25%</th>\n",
              "      <td>2060.750000</td>\n",
              "      <td>1.000000</td>\n",
              "    </tr>\n",
              "    <tr>\n",
              "      <th>50%</th>\n",
              "      <td>2310.500000</td>\n",
              "      <td>1.000000</td>\n",
              "    </tr>\n",
              "    <tr>\n",
              "      <th>75%</th>\n",
              "      <td>2560.250000</td>\n",
              "      <td>1.000000</td>\n",
              "    </tr>\n",
              "    <tr>\n",
              "      <th>max</th>\n",
              "      <td>2810.000000</td>\n",
              "      <td>1.000000</td>\n",
              "    </tr>\n",
              "  </tbody>\n",
              "</table>\n",
              "</div>\n",
              "      <button class=\"colab-df-convert\" onclick=\"convertToInteractive('df-6584e6d6-b474-4e4e-aa6b-c026db166162')\"\n",
              "              title=\"Convert this dataframe to an interactive table.\"\n",
              "              style=\"display:none;\">\n",
              "        \n",
              "  <svg xmlns=\"http://www.w3.org/2000/svg\" height=\"24px\"viewBox=\"0 0 24 24\"\n",
              "       width=\"24px\">\n",
              "    <path d=\"M0 0h24v24H0V0z\" fill=\"none\"/>\n",
              "    <path d=\"M18.56 5.44l.94 2.06.94-2.06 2.06-.94-2.06-.94-.94-2.06-.94 2.06-2.06.94zm-11 1L8.5 8.5l.94-2.06 2.06-.94-2.06-.94L8.5 2.5l-.94 2.06-2.06.94zm10 10l.94 2.06.94-2.06 2.06-.94-2.06-.94-.94-2.06-.94 2.06-2.06.94z\"/><path d=\"M17.41 7.96l-1.37-1.37c-.4-.4-.92-.59-1.43-.59-.52 0-1.04.2-1.43.59L10.3 9.45l-7.72 7.72c-.78.78-.78 2.05 0 2.83L4 21.41c.39.39.9.59 1.41.59.51 0 1.02-.2 1.41-.59l7.78-7.78 2.81-2.81c.8-.78.8-2.07 0-2.86zM5.41 20L4 18.59l7.72-7.72 1.47 1.35L5.41 20z\"/>\n",
              "  </svg>\n",
              "      </button>\n",
              "      \n",
              "  <style>\n",
              "    .colab-df-container {\n",
              "      display:flex;\n",
              "      flex-wrap:wrap;\n",
              "      gap: 12px;\n",
              "    }\n",
              "\n",
              "    .colab-df-convert {\n",
              "      background-color: #E8F0FE;\n",
              "      border: none;\n",
              "      border-radius: 50%;\n",
              "      cursor: pointer;\n",
              "      display: none;\n",
              "      fill: #1967D2;\n",
              "      height: 32px;\n",
              "      padding: 0 0 0 0;\n",
              "      width: 32px;\n",
              "    }\n",
              "\n",
              "    .colab-df-convert:hover {\n",
              "      background-color: #E2EBFA;\n",
              "      box-shadow: 0px 1px 2px rgba(60, 64, 67, 0.3), 0px 1px 3px 1px rgba(60, 64, 67, 0.15);\n",
              "      fill: #174EA6;\n",
              "    }\n",
              "\n",
              "    [theme=dark] .colab-df-convert {\n",
              "      background-color: #3B4455;\n",
              "      fill: #D2E3FC;\n",
              "    }\n",
              "\n",
              "    [theme=dark] .colab-df-convert:hover {\n",
              "      background-color: #434B5C;\n",
              "      box-shadow: 0px 1px 3px 1px rgba(0, 0, 0, 0.15);\n",
              "      filter: drop-shadow(0px 1px 2px rgba(0, 0, 0, 0.3));\n",
              "      fill: #FFFFFF;\n",
              "    }\n",
              "  </style>\n",
              "\n",
              "      <script>\n",
              "        const buttonEl =\n",
              "          document.querySelector('#df-6584e6d6-b474-4e4e-aa6b-c026db166162 button.colab-df-convert');\n",
              "        buttonEl.style.display =\n",
              "          google.colab.kernel.accessAllowed ? 'block' : 'none';\n",
              "\n",
              "        async function convertToInteractive(key) {\n",
              "          const element = document.querySelector('#df-6584e6d6-b474-4e4e-aa6b-c026db166162');\n",
              "          const dataTable =\n",
              "            await google.colab.kernel.invokeFunction('convertToInteractive',\n",
              "                                                     [key], {});\n",
              "          if (!dataTable) return;\n",
              "\n",
              "          const docLinkHtml = 'Like what you see? Visit the ' +\n",
              "            '<a target=\"_blank\" href=https://colab.research.google.com/notebooks/data_table.ipynb>data table notebook</a>'\n",
              "            + ' to learn more about interactive tables.';\n",
              "          element.innerHTML = '';\n",
              "          dataTable['output_type'] = 'display_data';\n",
              "          await google.colab.output.renderOutput(dataTable, element);\n",
              "          const docLink = document.createElement('div');\n",
              "          docLink.innerHTML = docLinkHtml;\n",
              "          element.appendChild(docLink);\n",
              "        }\n",
              "      </script>\n",
              "    </div>\n",
              "  </div>\n",
              "  "
            ]
          },
          "metadata": {},
          "execution_count": 3
        }
      ]
    },
    {
      "cell_type": "markdown",
      "source": [
        "# Random Variables\n",
        "\n",
        "*   **Passenger_ID** - Unique ID for each passenger. This is Discrete Random variable (Since they are finite) [Somtimes we can say this is Continuous random variable if range is too much, but mathematically it is Discrete]\n",
        "*   **Flight_ID** - Unique ID for each flight. This is Discrete Random Variable\n",
        "*   **Arrived** - 1 means person has arrived for the boarding. It is Discrete Random Variable.\n",
        "\n"
      ],
      "metadata": {
        "id": "d9xQDu6ktP0e"
      }
    },
    {
      "cell_type": "markdown",
      "source": [
        "Discrete Random Variable \"Arrived\" has-\n",
        "\n",
        "\n",
        "*   Only 2 outcomes - Arrived or not (Similar to SUCCESS / FAILURE)\n",
        "*   It is Mutual Exclusive and Exhaustive event (The person will either arrive or not (both can not be possible) and both possibilities together made the entire universe)\n",
        "\n",
        "So, due to above points, we can say- \"Arrived\" Discrete Random variable is Bernaulli Random Variable.\n",
        "\n"
      ],
      "metadata": {
        "id": "OnCQGWAJuHOg"
      }
    },
    {
      "cell_type": "markdown",
      "source": [
        "# Passenger_ID Column"
      ],
      "metadata": {
        "id": "hFuv20Ulvp-L"
      }
    },
    {
      "cell_type": "markdown",
      "source": [
        "\n",
        "\n",
        "*   It is not having NaN and duplicates values.\n",
        "*   It means that each record in the data is representing one unique person.\n",
        "\n"
      ],
      "metadata": {
        "id": "SvsvZ4baw1s9"
      }
    },
    {
      "cell_type": "code",
      "source": [
        "data[\"Passenger_ID\"].isna().any()"
      ],
      "metadata": {
        "colab": {
          "base_uri": "https://localhost:8080/"
        },
        "id": "ktFnv9_avtBo",
        "outputId": "35ff5c64-27a5-474b-c27e-0b4f2923c909"
      },
      "execution_count": 9,
      "outputs": [
        {
          "output_type": "execute_result",
          "data": {
            "text/plain": [
              "False"
            ]
          },
          "metadata": {},
          "execution_count": 9
        }
      ]
    },
    {
      "cell_type": "code",
      "source": [
        "data[\"Passenger_ID\"].duplicated().any()"
      ],
      "metadata": {
        "colab": {
          "base_uri": "https://localhost:8080/"
        },
        "id": "Wg4veGokv3uV",
        "outputId": "358945d9-7d6e-41de-93ed-81e695f73128"
      },
      "execution_count": 11,
      "outputs": [
        {
          "output_type": "execute_result",
          "data": {
            "text/plain": [
              "False"
            ]
          },
          "metadata": {},
          "execution_count": 11
        }
      ]
    },
    {
      "cell_type": "markdown",
      "source": [
        "# Arrived Column"
      ],
      "metadata": {
        "id": "s8AzljwPxHAi"
      }
    },
    {
      "cell_type": "code",
      "source": [
        "# Unique Values with count\n",
        "data[\"Arrived\"].value_counts()"
      ],
      "metadata": {
        "colab": {
          "base_uri": "https://localhost:8080/"
        },
        "id": "0ArqlcbyxGLo",
        "outputId": "055d01a7-a5be-4b44-e6c3-6c4e8a8d4c09"
      },
      "execution_count": 4,
      "outputs": [
        {
          "output_type": "execute_result",
          "data": {
            "text/plain": [
              "1    902\n",
              "0     98\n",
              "Name: Arrived, dtype: int64"
            ]
          },
          "metadata": {},
          "execution_count": 4
        }
      ]
    },
    {
      "cell_type": "code",
      "source": [
        "# Bar plot (Unique Values with count)\n",
        "data[\"Arrived\"].value_counts().plot.bar()\n",
        "plt.grid()\n",
        "plt.show()"
      ],
      "metadata": {
        "colab": {
          "base_uri": "https://localhost:8080/",
          "height": 262
        },
        "id": "F_-DPgFc_TXn",
        "outputId": "a58cc7e5-c848-412c-cc4f-6a68e3e41e40"
      },
      "execution_count": 5,
      "outputs": [
        {
          "output_type": "display_data",
          "data": {
            "text/plain": [
              "<Figure size 432x288 with 1 Axes>"
            ],
            "image/png": "[encoded data removed]"
          },
          "metadata": {
            "needs_background": "light"
          }
        }
      ]
    },
    {
      "cell_type": "code",
      "source": [
        "shows_up_probability = data[\"Arrived\"].value_counts(normalize = True)[1]\n",
        "shows_up_probability"
      ],
      "metadata": {
        "colab": {
          "base_uri": "https://localhost:8080/"
        },
        "id": "MnNGE2xP7S66",
        "outputId": "3a6d0557-57c0-46b1-d9d6-d67b0e76b9a4"
      },
      "execution_count": 6,
      "outputs": [
        {
          "output_type": "execute_result",
          "data": {
            "text/plain": [
              "0.902"
            ]
          },
          "metadata": {},
          "execution_count": 6
        }
      ]
    },
    {
      "cell_type": "markdown",
      "source": [
        "**It means the probability for a person to arrive in airport is 0.902**"
      ],
      "metadata": {
        "id": "Z8IMF8c-7zgz"
      }
    },
    {
      "cell_type": "markdown",
      "source": [
        "# Parameters"
      ],
      "metadata": {
        "id": "zSUkrbUlmh_n"
      }
    },
    {
      "cell_type": "markdown",
      "source": [
        "Lets say, \n",
        "\n",
        "\n",
        "*   A flight capacity = 100 seats\n",
        "*   A ticket price is 5000 Rs\n",
        "*   If there are extra person for onboarding then Penalty = 10000 Rs per person.\n",
        "\n"
      ],
      "metadata": {
        "id": "ZV2yJ7qjnNko"
      }
    },
    {
      "cell_type": "code",
      "source": [
        "flight_capacity = 100\n",
        "ticket_price = 5000\n",
        "PENALTY = 10000"
      ],
      "metadata": {
        "id": "mhYhmvI4mhlM"
      },
      "execution_count": 7,
      "outputs": []
    },
    {
      "cell_type": "markdown",
      "source": [
        "# Analysis"
      ],
      "metadata": {
        "id": "tl0OZt4SpZ5c"
      }
    },
    {
      "cell_type": "markdown",
      "source": [
        "\"Arrived\" is Non-Uniform distributed Discrete Random Variable. More precisely, it is a Bernaulli Random variable with p = 0.902"
      ],
      "metadata": {
        "id": "d5CTnFK4FFhw"
      }
    },
    {
      "cell_type": "markdown",
      "source": [
        "Lets say we overbook by 10 people so total booking = flight_capacity + 10 = 110"
      ],
      "metadata": {
        "id": "50JwUHx5pd3B"
      }
    },
    {
      "cell_type": "markdown",
      "source": [
        "What is the probability of arriving 101 people @ airport out of 110 booked people? "
      ],
      "metadata": {
        "id": "PwmCedP1prcW"
      }
    },
    {
      "cell_type": "markdown",
      "source": [
        "This is denoted by x which is a Binomial Random variable with total trails n = 110, prob of success p = 0.902"
      ],
      "metadata": {
        "id": "nrTKSFBRp4I2"
      }
    },
    {
      "cell_type": "markdown",
      "source": [
        "Note - This prob of success is avg behaviour across all flights and people."
      ],
      "metadata": {
        "id": "fwtxi8iXqZS-"
      }
    },
    {
      "cell_type": "code",
      "source": [
        "def calculate_expected_penalty(ticket_sold,print_logs = False, draw_plot = False):\n",
        "  \"\"\"\n",
        "  Compute expected penalty per flight by computing -\n",
        "  Prob of Having 1 penalty i.e (flight_capacity + 1) people arrived out of ticket_sold (let say 110) \n",
        "  Prob of Having 2 penalty i.e (flight_capacity + 2) people arrived out of ticket_sold (let say 110) \n",
        "  Prob of Having 3 penalty i.e (flight_capacity + 3) people arrived out of ticket_sold (let say 110) \n",
        "  etc.\n",
        "\n",
        "  It returns the total expected penality per flight from above.\n",
        "\n",
        "  # corner case\n",
        "  If ticket_sold = 99 and flight_capacity = 100 so obviously no extra person came , means no penalty. \n",
        "  So it return 0 as expected penalty per flight\n",
        "\n",
        "  \"\"\"\n",
        "\n",
        "  # For visualization\n",
        "  overbook_list = []\n",
        "  prob_list = []\n",
        "\n",
        "\n",
        "  total_penalty = 0.0\n",
        "  for i in range(1, ticket_sold - flight_capacity + 1):\n",
        "\n",
        "    # Compute prob of having i penalty\n",
        "    ##pmf for k successes, n trials, p=success probab\n",
        "    prob = stats.binom.pmf(k=flight_capacity+i,n=ticket_sold,p=shows_up_probability) \n",
        "\n",
        "    # Cpmpute Expected penality per flight\n",
        "    penalty = prob * PENALTY * i\n",
        "\n",
        "    total_penalty += penalty\n",
        "\n",
        "    if print_logs:\n",
        "      # print\n",
        "      print(\"----> -------------------------------------------------------------------------------------\")\n",
        "      print(\"----> Prob of arriving \",flight_capacity+i,\" passengers out of \", ticket_sold, \" booked passengers = \",prob)\n",
        "      print(\"----> In other words, it is the prob of having \", i, \" penalty\")\n",
        "      print(\"----> Expected Penality per flight = \",penalty)\n",
        "      print(\"----> -------------------------------------------------------------------------------------\")\n",
        "    \n",
        "    if draw_plot:\n",
        "      overbook_list.append(i)\n",
        "      prob_list.append(prob)\n",
        "  \n",
        "  print(\"--> Total Penality if we sold total tickets \",ticket_sold,\" = \",total_penalty)\n",
        "\n",
        "  if draw_plot:\n",
        "\n",
        "    visualize(overbook_list,prob_list,ticket_sold)\n",
        "\n",
        "\n",
        "\n",
        "  return total_penalty"
      ],
      "metadata": {
        "id": "14O72_EX7yj8"
      },
      "execution_count": 22,
      "outputs": []
    },
    {
      "cell_type": "code",
      "source": [
        "def visualize(x,y,ticket_sold):\n",
        "\n",
        "  x = [i + flight_capacity for i in x]\n",
        "  y_axis_title = \"Probability of x passengers (seats) came @ airport out of \" + str(ticket_sold) + \" booked passengers\"\n",
        "\n",
        "  # Use textposition='auto' for direct text\n",
        "  fig = go.Figure(data=[go.Bar(\n",
        "              x=x, y=y,\n",
        "              text=y,\n",
        "              textposition='auto',\n",
        "          )])\n",
        "\n",
        "  fig.update_layout(\n",
        "      autosize=False,\n",
        "      width=1200,\n",
        "      height=600,\n",
        "      xaxis=dict(\n",
        "          title_text=\"Seats with overbooking (Flight Capacity = 100) \",\n",
        "          tickvals=seats_list\n",
        "      ),\n",
        "      yaxis=dict(\n",
        "          title_text=y_axis_title\n",
        "      )\n",
        "  )\n",
        "\n",
        "  fig.show()"
      ],
      "metadata": {
        "id": "xnZEAMcqMsoD"
      },
      "execution_count": 27,
      "outputs": []
    },
    {
      "cell_type": "code",
      "source": [
        "# lets say we sold 130 tickets where capacity of flight is only 100\n",
        "# so what is the prob distribution of x people came @ airport out of 130 booked passenger\n",
        "calculate_expected_penalty(130,print_logs = False, draw_plot = True)"
      ],
      "metadata": {
        "colab": {
          "base_uri": "https://localhost:8080/",
          "height": 671
        },
        "id": "zMJoq0cvNj4l",
        "outputId": "80a0df28-f732-4b6b-f920-d03966ae92e7"
      },
      "execution_count": 28,
      "outputs": [
        {
          "output_type": "stream",
          "name": "stdout",
          "text": [
            "--> Total Penality if we sold total tickets  130  =  172600.03655819042\n"
          ]
        },
        {
          "output_type": "display_data",
          "data": {
            "text/html": [
              "<html>\n",
              "<head><meta charset=\"utf-8\" /></head>\n",
              "<body>\n",
              "    <div>            <script src=\"https://cdnjs.cloudflare.com/ajax/libs/mathjax/2.7.5/MathJax.js?config=TeX-AMS-MML_SVG\"></script><script type=\"text/javascript\">if (window.MathJax) {MathJax.Hub.Config({SVG: {font: \"STIX-Web\"}});}</script>                <script type=\"text/javascript\">window.PlotlyConfig = {MathJaxConfig: 'local'};</script>\n",
              "        <script src=\"https://cdn.plot.ly/plotly-2.8.3.min.js\"></script>                <div id=\"4564c72c-a9a9-4057-bf68-5fc10794b5fe\" class=\"plotly-graph-div\" style=\"height:600px; width:1200px;\"></div>            <script type=\"text/javascript\">                                    window.PLOTLYENV=window.PLOTLYENV || {};                                    if (document.getElementById(\"4564c72c-a9a9-4057-bf68-5fc10794b5fe\")) {                    Plotly.newPlot(                        \"4564c72c-a9a9-4057-bf68-5fc10794b5fe\",                        [{\"text\":[\"1.2919502617555199e-05\",\"3.380835829031477e-05\",\"8.459123211613407e-05\",\"0.00020213254189132413\",\"0.00046068147448348446\",\"0.0010000353532539955\",\"0.0020645398938815415\",\"0.004046763476801509\",\"0.007517690922453376\",\"0.013209656906596824\",\"0.021906803695073855\",\"0.03420543018642047\",\"0.05014984328216853\",\"0.06883259012610049\",\"0.08814480396627769\",\"0.10490844455169455\",\"0.11554019167964007\",\"0.11715879346553788\",\"0.10874007721411454\",\"0.09174481684679886\",\"0.06978733749015202\",\"0.047384878366099746\",\"0.028366457797387824\",\"0.01473879316431119\",\"0.006511538661653821\",\"0.0023782830712713904\",\"0.0006894460325524435\",\"0.0001487277554278362\",\"2.1223293054249284e-05\",\"1.502622475269439e-06\"],\"textposition\":\"auto\",\"x\":[101,102,103,104,105,106,107,108,109,110,111,112,113,114,115,116,117,118,119,120,121,122,123,124,125,126,127,128,129,130],\"y\":[1.2919502617555199e-05,3.380835829031477e-05,8.459123211613407e-05,0.00020213254189132413,0.00046068147448348446,0.0010000353532539955,0.0020645398938815415,0.004046763476801509,0.007517690922453376,0.013209656906596824,0.021906803695073855,0.03420543018642047,0.05014984328216853,0.06883259012610049,0.08814480396627769,0.10490844455169455,0.11554019167964007,0.11715879346553788,0.10874007721411454,0.09174481684679886,0.06978733749015202,0.047384878366099746,0.028366457797387824,0.01473879316431119,0.006511538661653821,0.0023782830712713904,0.0006894460325524435,0.0001487277554278362,2.1223293054249284e-05,1.502622475269439e-06],\"type\":\"bar\"}],                        {\"template\":{\"data\":{\"bar\":[{\"error_x\":{\"color\":\"#2a3f5f\"},\"error_y\":{\"color\":\"#2a3f5f\"},\"marker\":{\"line\":{\"color\":\"#E5ECF6\",\"width\":0.5},\"pattern\":{\"fillmode\":\"overlay\",\"size\":10,\"solidity\":0.2}},\"type\":\"bar\"}],\"barpolar\":[{\"marker\":{\"line\":{\"color\":\"#E5ECF6\",\"width\":0.5},\"pattern\":{\"fillmode\":\"overlay\",\"size\":10,\"solidity\":0.2}},\"type\":\"barpolar\"}],\"carpet\":[{\"aaxis\":{\"endlinecolor\":\"#2a3f5f\",\"gridcolor\":\"white\",\"linecolor\":\"white\",\"minorgridcolor\":\"white\",\"startlinecolor\":\"#2a3f5f\"},\"baxis\":{\"endlinecolor\":\"#2a3f5f\",\"gridcolor\":\"white\",\"linecolor\":\"white\",\"minorgridcolor\":\"white\",\"startlinecolor\":\"#2a3f5f\"},\"type\":\"carpet\"}],\"choropleth\":[{\"colorbar\":{\"outlinewidth\":0,\"ticks\":\"\"},\"type\":\"choropleth\"}],\"contour\":[{\"colorbar\":{\"outlinewidth\":0,\"ticks\":\"\"},\"colorscale\":[[0.0,\"#0d0887\"],[0.1111111111111111,\"#46039f\"],[0.2222222222222222,\"#7201a8\"],[0.3333333333333333,\"#9c179e\"],[0.4444444444444444,\"#bd3786\"],[0.5555555555555556,\"#d8576b\"],[0.6666666666666666,\"#ed7953\"],[0.7777777777777778,\"#fb9f3a\"],[0.8888888888888888,\"#fdca26\"],[1.0,\"#f0f921\"]],\"type\":\"contour\"}],\"contourcarpet\":[{\"colorbar\":{\"outlinewidth\":0,\"ticks\":\"\"},\"type\":\"contourcarpet\"}],\"heatmap\":[{\"colorbar\":{\"outlinewidth\":0,\"ticks\":\"\"},\"colorscale\":[[0.0,\"#0d0887\"],[0.1111111111111111,\"#46039f\"],[0.2222222222222222,\"#7201a8\"],[0.3333333333333333,\"#9c179e\"],[0.4444444444444444,\"#bd3786\"],[0.5555555555555556,\"#d8576b\"],[0.6666666666666666,\"#ed7953\"],[0.7777777777777778,\"#fb9f3a\"],[0.8888888888888888,\"#fdca26\"],[1.0,\"#f0f921\"]],\"type\":\"heatmap\"}],\"heatmapgl\":[{\"colorbar\":{\"outlinewidth\":0,\"ticks\":\"\"},\"colorscale\":[[0.0,\"#0d0887\"],[0.1111111111111111,\"#46039f\"],[0.2222222222222222,\"#7201a8\"],[0.3333333333333333,\"#9c179e\"],[0.4444444444444444,\"#bd3786\"],[0.5555555555555556,\"#d8576b\"],[0.6666666666666666,\"#ed7953\"],[0.7777777777777778,\"#fb9f3a\"],[0.8888888888888888,\"#fdca26\"],[1.0,\"#f0f921\"]],\"type\":\"heatmapgl\"}],\"histogram\":[{\"marker\":{\"pattern\":{\"fillmode\":\"overlay\",\"size\":10,\"solidity\":0.2}},\"type\":\"histogram\"}],\"histogram2d\":[{\"colorbar\":{\"outlinewidth\":0,\"ticks\":\"\"},\"colorscale\":[[0.0,\"#0d0887\"],[0.1111111111111111,\"#46039f\"],[0.2222222222222222,\"#7201a8\"],[0.3333333333333333,\"#9c179e\"],[0.4444444444444444,\"#bd3786\"],[0.5555555555555556,\"#d8576b\"],[0.6666666666666666,\"#ed7953\"],[0.7777777777777778,\"#fb9f3a\"],[0.8888888888888888,\"#fdca26\"],[1.0,\"#f0f921\"]],\"type\":\"histogram2d\"}],\"histogram2dcontour\":[{\"colorbar\":{\"outlinewidth\":0,\"ticks\":\"\"},\"colorscale\":[[0.0,\"#0d0887\"],[0.1111111111111111,\"#46039f\"],[0.2222222222222222,\"#7201a8\"],[0.3333333333333333,\"#9c179e\"],[0.4444444444444444,\"#bd3786\"],[0.5555555555555556,\"#d8576b\"],[0.6666666666666666,\"#ed7953\"],[0.7777777777777778,\"#fb9f3a\"],[0.8888888888888888,\"#fdca26\"],[1.0,\"#f0f921\"]],\"type\":\"histogram2dcontour\"}],\"mesh3d\":[{\"colorbar\":{\"outlinewidth\":0,\"ticks\":\"\"},\"type\":\"mesh3d\"}],\"parcoords\":[{\"line\":{\"colorbar\":{\"outlinewidth\":0,\"ticks\":\"\"}},\"type\":\"parcoords\"}],\"pie\":[{\"automargin\":true,\"type\":\"pie\"}],\"scatter\":[{\"marker\":{\"colorbar\":{\"outlinewidth\":0,\"ticks\":\"\"}},\"type\":\"scatter\"}],\"scatter3d\":[{\"line\":{\"colorbar\":{\"outlinewidth\":0,\"ticks\":\"\"}},\"marker\":{\"colorbar\":{\"outlinewidth\":0,\"ticks\":\"\"}},\"type\":\"scatter3d\"}],\"scattercarpet\":[{\"marker\":{\"colorbar\":{\"outlinewidth\":0,\"ticks\":\"\"}},\"type\":\"scattercarpet\"}],\"scattergeo\":[{\"marker\":{\"colorbar\":{\"outlinewidth\":0,\"ticks\":\"\"}},\"type\":\"scattergeo\"}],\"scattergl\":[{\"marker\":{\"colorbar\":{\"outlinewidth\":0,\"ticks\":\"\"}},\"type\":\"scattergl\"}],\"scattermapbox\":[{\"marker\":{\"colorbar\":{\"outlinewidth\":0,\"ticks\":\"\"}},\"type\":\"scattermapbox\"}],\"scatterpolar\":[{\"marker\":{\"colorbar\":{\"outlinewidth\":0,\"ticks\":\"\"}},\"type\":\"scatterpolar\"}],\"scatterpolargl\":[{\"marker\":{\"colorbar\":{\"outlinewidth\":0,\"ticks\":\"\"}},\"type\":\"scatterpolargl\"}],\"scatterternary\":[{\"marker\":{\"colorbar\":{\"outlinewidth\":0,\"ticks\":\"\"}},\"type\":\"scatterternary\"}],\"surface\":[{\"colorbar\":{\"outlinewidth\":0,\"ticks\":\"\"},\"colorscale\":[[0.0,\"#0d0887\"],[0.1111111111111111,\"#46039f\"],[0.2222222222222222,\"#7201a8\"],[0.3333333333333333,\"#9c179e\"],[0.4444444444444444,\"#bd3786\"],[0.5555555555555556,\"#d8576b\"],[0.6666666666666666,\"#ed7953\"],[0.7777777777777778,\"#fb9f3a\"],[0.8888888888888888,\"#fdca26\"],[1.0,\"#f0f921\"]],\"type\":\"surface\"}],\"table\":[{\"cells\":{\"fill\":{\"color\":\"#EBF0F8\"},\"line\":{\"color\":\"white\"}},\"header\":{\"fill\":{\"color\":\"#C8D4E3\"},\"line\":{\"color\":\"white\"}},\"type\":\"table\"}]},\"layout\":{\"annotationdefaults\":{\"arrowcolor\":\"#2a3f5f\",\"arrowhead\":0,\"arrowwidth\":1},\"autotypenumbers\":\"strict\",\"coloraxis\":{\"colorbar\":{\"outlinewidth\":0,\"ticks\":\"\"}},\"colorscale\":{\"diverging\":[[0,\"#8e0152\"],[0.1,\"#c51b7d\"],[0.2,\"#de77ae\"],[0.3,\"#f1b6da\"],[0.4,\"#fde0ef\"],[0.5,\"#f7f7f7\"],[0.6,\"#e6f5d0\"],[0.7,\"#b8e186\"],[0.8,\"#7fbc41\"],[0.9,\"#4d9221\"],[1,\"#276419\"]],\"sequential\":[[0.0,\"#0d0887\"],[0.1111111111111111,\"#46039f\"],[0.2222222222222222,\"#7201a8\"],[0.3333333333333333,\"#9c179e\"],[0.4444444444444444,\"#bd3786\"],[0.5555555555555556,\"#d8576b\"],[0.6666666666666666,\"#ed7953\"],[0.7777777777777778,\"#fb9f3a\"],[0.8888888888888888,\"#fdca26\"],[1.0,\"#f0f921\"]],\"sequentialminus\":[[0.0,\"#0d0887\"],[0.1111111111111111,\"#46039f\"],[0.2222222222222222,\"#7201a8\"],[0.3333333333333333,\"#9c179e\"],[0.4444444444444444,\"#bd3786\"],[0.5555555555555556,\"#d8576b\"],[0.6666666666666666,\"#ed7953\"],[0.7777777777777778,\"#fb9f3a\"],[0.8888888888888888,\"#fdca26\"],[1.0,\"#f0f921\"]]},\"colorway\":[\"#636efa\",\"#EF553B\",\"#00cc96\",\"#ab63fa\",\"#FFA15A\",\"#19d3f3\",\"#FF6692\",\"#B6E880\",\"#FF97FF\",\"#FECB52\"],\"font\":{\"color\":\"#2a3f5f\"},\"geo\":{\"bgcolor\":\"white\",\"lakecolor\":\"white\",\"landcolor\":\"#E5ECF6\",\"showlakes\":true,\"showland\":true,\"subunitcolor\":\"white\"},\"hoverlabel\":{\"align\":\"left\"},\"hovermode\":\"closest\",\"mapbox\":{\"style\":\"light\"},\"paper_bgcolor\":\"white\",\"plot_bgcolor\":\"#E5ECF6\",\"polar\":{\"angularaxis\":{\"gridcolor\":\"white\",\"linecolor\":\"white\",\"ticks\":\"\"},\"bgcolor\":\"#E5ECF6\",\"radialaxis\":{\"gridcolor\":\"white\",\"linecolor\":\"white\",\"ticks\":\"\"}},\"scene\":{\"xaxis\":{\"backgroundcolor\":\"#E5ECF6\",\"gridcolor\":\"white\",\"gridwidth\":2,\"linecolor\":\"white\",\"showbackground\":true,\"ticks\":\"\",\"zerolinecolor\":\"white\"},\"yaxis\":{\"backgroundcolor\":\"#E5ECF6\",\"gridcolor\":\"white\",\"gridwidth\":2,\"linecolor\":\"white\",\"showbackground\":true,\"ticks\":\"\",\"zerolinecolor\":\"white\"},\"zaxis\":{\"backgroundcolor\":\"#E5ECF6\",\"gridcolor\":\"white\",\"gridwidth\":2,\"linecolor\":\"white\",\"showbackground\":true,\"ticks\":\"\",\"zerolinecolor\":\"white\"}},\"shapedefaults\":{\"line\":{\"color\":\"#2a3f5f\"}},\"ternary\":{\"aaxis\":{\"gridcolor\":\"white\",\"linecolor\":\"white\",\"ticks\":\"\"},\"baxis\":{\"gridcolor\":\"white\",\"linecolor\":\"white\",\"ticks\":\"\"},\"bgcolor\":\"#E5ECF6\",\"caxis\":{\"gridcolor\":\"white\",\"linecolor\":\"white\",\"ticks\":\"\"}},\"title\":{\"x\":0.05},\"xaxis\":{\"automargin\":true,\"gridcolor\":\"white\",\"linecolor\":\"white\",\"ticks\":\"\",\"title\":{\"standoff\":15},\"zerolinecolor\":\"white\",\"zerolinewidth\":2},\"yaxis\":{\"automargin\":true,\"gridcolor\":\"white\",\"linecolor\":\"white\",\"ticks\":\"\",\"title\":{\"standoff\":15},\"zerolinecolor\":\"white\",\"zerolinewidth\":2}}},\"xaxis\":{\"title\":{\"text\":\"Seats with overbooking (Flight Capacity = 100) \"},\"tickvals\":[100,101,102,103,104,105,106,107,108,109,110,111,112,113,114,115,116,117,118,119,120,121,122,123,124,125,126,127,128,129,130,131,132,133,134,135,136,137,138,139,140,141,142,143,144,145,146,147,148,149,100,101,102,103,104,105,106,107,108,109,110,111,112,113,114,115,116,117,118,119,120,121,122,123,124,125,126,127,128,129,130,131,132,133,134,135,136,137,138,139,140,141,142,143,144,145,146,147,148,149,100,101,102,103,104,105,106,107,108,109,110,111,112,113,114,115,116,117,118,119,120,121,122,123,124,125,126,127,128,129,130,131,132,133,134,135,136,137,138,139,140,141,142,143,144,145,146,147,148,149]},\"yaxis\":{\"title\":{\"text\":\"Probability of x passengers (seats) came @ airport out of 130 booked passengers\"}},\"autosize\":false,\"width\":1200,\"height\":600},                        {\"responsive\": true}                    ).then(function(){\n",
              "                            \n",
              "var gd = document.getElementById('4564c72c-a9a9-4057-bf68-5fc10794b5fe');\n",
              "var x = new MutationObserver(function (mutations, observer) {{\n",
              "        var display = window.getComputedStyle(gd).display;\n",
              "        if (!display || display === 'none') {{\n",
              "            console.log([gd, 'removed!']);\n",
              "            Plotly.purge(gd);\n",
              "            observer.disconnect();\n",
              "        }}\n",
              "}});\n",
              "\n",
              "// Listen for the removal of the full notebook cells\n",
              "var notebookContainer = gd.closest('#notebook-container');\n",
              "if (notebookContainer) {{\n",
              "    x.observe(notebookContainer, {childList: true});\n",
              "}}\n",
              "\n",
              "// Listen for the clearing of the current output cell\n",
              "var outputEl = gd.closest('.output');\n",
              "if (outputEl) {{\n",
              "    x.observe(outputEl, {childList: true});\n",
              "}}\n",
              "\n",
              "                        })                };                            </script>        </div>\n",
              "</body>\n",
              "</html>"
            ]
          },
          "metadata": {}
        },
        {
          "output_type": "execute_result",
          "data": {
            "text/plain": [
              "172600.03655819042"
            ]
          },
          "metadata": {},
          "execution_count": 28
        }
      ]
    },
    {
      "cell_type": "markdown",
      "source": [
        "**It is Binaomial Distribution and it is always Gaussian (Normal)**"
      ],
      "metadata": {
        "id": "ErFQZUkwOgQS"
      }
    },
    {
      "cell_type": "markdown",
      "source": [
        "# But we dont know how much we should overbook? So lets do simulation."
      ],
      "metadata": {
        "id": "dSd8DjJdOn0M"
      }
    },
    {
      "cell_type": "code",
      "source": [
        "# for visualization\n",
        "seats_list = []\n",
        "net_sales_list = []"
      ],
      "metadata": {
        "id": "_hHdobiK15IA"
      },
      "execution_count": 12,
      "outputs": []
    },
    {
      "cell_type": "code",
      "source": [
        "# Lets say, we want to chack till 50 overbooking\n",
        "\n",
        "for i in range(flight_capacity, flight_capacity + 50):\n",
        "  \n",
        "  # Total sales by booking tickets\n",
        "  sales = ticket_price * i\n",
        "\n",
        "  # expected penalty \n",
        "  total_penalty  = calculate_expected_penalty(i)\n",
        "\n",
        "  # net sales\n",
        "  netsales = (sales - total_penalty)\n",
        "\n",
        "  print(\"Total seats:\",i, \", Net Sales :\",round(netsales))\n",
        "\n",
        "  # for visualization\n",
        "  seats_list.append(i)\n",
        "  net_sales_list.append(netsales)"
      ],
      "metadata": {
        "colab": {
          "base_uri": "https://localhost:8080/"
        },
        "id": "MazMUsLXuJQV",
        "outputId": "4a568417-2473-4884-c029-967aff0c6f1d"
      },
      "execution_count": 21,
      "outputs": [
        {
          "output_type": "stream",
          "name": "stdout",
          "text": [
            "--> Total Penality if we sold total tickets  100  =  0.0\n",
            "Total seats: 100 , Net Sales : 500000\n",
            "--> Total Penality if we sold total tickets  101  =  0.2991302209311156\n",
            "Total seats: 101 , Net Sales : 505000\n",
            "--> Total Penality if we sold total tickets  102  =  3.529736606987343\n",
            "Total seats: 102 , Net Sales : 509996\n",
            "--> Total Penality if we sold total tickets  103  =  21.268218534246554\n",
            "Total seats: 103 , Net Sales : 514979\n",
            "--> Total Penality if we sold total tickets  104  =  87.34694176479246\n",
            "Total seats: 104 , Net Sales : 519913\n",
            "--> Total Penality if we sold total tickets  105  =  275.4122639241914\n",
            "Total seats: 105 , Net Sales : 524725\n",
            "--> Total Penality if we sold total tickets  106  =  712.1350693401445\n",
            "Total seats: 106 , Net Sales : 529288\n",
            "--> Total Penality if we sold total tickets  107  =  1575.3054585411628\n",
            "Total seats: 107 , Net Sales : 533425\n",
            "--> Total Penality if we sold total tickets  108  =  3071.324062079097\n",
            "Total seats: 108 , Net Sales : 536929\n",
            "--> Total Penality if we sold total tickets  109  =  5396.848462559525\n",
            "Total seats: 109 , Net Sales : 539603\n",
            "--> Total Penality if we sold total tickets  110  =  8697.871680243625\n",
            "Total seats: 110 , Net Sales : 541302\n",
            "--> Total Penality if we sold total tickets  111  =  13040.92273446465\n",
            "Total seats: 111 , Net Sales : 541959\n",
            "--> Total Penality if we sold total tickets  112  =  18405.16106849468\n",
            "Total seats: 112 , Net Sales : 541595\n",
            "--> Total Penality if we sold total tickets  113  =  24695.105671667327\n",
            "Total seats: 113 , Net Sales : 540305\n",
            "--> Total Penality if we sold total tickets  114  =  31766.631198696068\n",
            "Total seats: 114 , Net Sales : 538233\n",
            "--> Total Penality if we sold total tickets  115  =  39456.38723649293\n",
            "Total seats: 115 , Net Sales : 535544\n",
            "--> Total Penality if we sold total tickets  116  =  47606.60135871614\n",
            "Total seats: 116 , Net Sales : 532393\n",
            "--> Total Penality if we sold total tickets  117  =  56081.15064415262\n",
            "Total seats: 117 , Net Sales : 528919\n",
            "--> Total Penality if we sold total tickets  118  =  64772.584761084254\n",
            "Total seats: 118 , Net Sales : 525227\n",
            "--> Total Penality if we sold total tickets  119  =  73602.17451567676\n",
            "Total seats: 119 , Net Sales : 521398\n",
            "--> Total Penality if we sold total tickets  120  =  82515.85015416502\n",
            "Total seats: 120 , Net Sales : 517484\n",
            "--> Total Penality if we sold total tickets  121  =  91478.55627154074\n",
            "Total seats: 121 , Net Sales : 513521\n",
            "--> Total Penality if we sold total tickets  122  =  100468.71945709756\n",
            "Total seats: 122 , Net Sales : 509531\n",
            "--> Total Penality if we sold total tickets  123  =  109473.6820024258\n",
            "Total seats: 123 , Net Sales : 505526\n",
            "--> Total Penality if we sold total tickets  124  =  118486.3376410108\n",
            "Total seats: 124 , Net Sales : 501514\n",
            "--> Total Penality if we sold total tickets  125  =  127502.85713567669\n",
            "Total seats: 125 , Net Sales : 497497\n",
            "--> Total Penality if we sold total tickets  126  =  136521.2547735198\n",
            "Total seats: 126 , Net Sales : 493479\n",
            "--> Total Penality if we sold total tickets  127  =  145540.53730573592\n",
            "Total seats: 127 , Net Sales : 489459\n",
            "--> Total Penality if we sold total tickets  128  =  154560.22452966648\n",
            "Total seats: 128 , Net Sales : 485440\n",
            "--> Total Penality if we sold total tickets  129  =  163580.09163904408\n",
            "Total seats: 129 , Net Sales : 481420\n",
            "--> Total Penality if we sold total tickets  130  =  172600.03655819042\n",
            "Total seats: 130 , Net Sales : 477400\n",
            "--> Total Penality if we sold total tickets  131  =  181620.01426636486\n",
            "Total seats: 131 , Net Sales : 473380\n",
            "--> Total Penality if we sold total tickets  132  =  190640.0054498172\n",
            "Total seats: 132 , Net Sales : 469360\n",
            "--> Total Penality if we sold total tickets  133  =  199660.00203932213\n",
            "Total seats: 133 , Net Sales : 465340\n",
            "--> Total Penality if we sold total tickets  134  =  208680.00074802883\n",
            "Total seats: 134 , Net Sales : 461320\n",
            "--> Total Penality if we sold total tickets  135  =  217700.00026912556\n",
            "Total seats: 135 , Net Sales : 457300\n",
            "--> Total Penality if we sold total tickets  136  =  226720.00009501426\n",
            "Total seats: 136 , Net Sales : 453280\n",
            "--> Total Penality if we sold total tickets  137  =  235740.00003296463\n",
            "Total seats: 137 , Net Sales : 449260\n",
            "--> Total Penality if we sold total tickets  138  =  244760.00001121912\n",
            "Total seats: 138 , Net Sales : 445240\n",
            "--> Total Penality if we sold total tickets  139  =  253780.00000375006\n",
            "Total seats: 139 , Net Sales : 441220\n",
            "--> Total Penality if we sold total tickets  140  =  262800.00000127155\n",
            "Total seats: 140 , Net Sales : 437200\n",
            "--> Total Penality if we sold total tickets  141  =  271820.00000042317\n",
            "Total seats: 141 , Net Sales : 433180\n",
            "--> Total Penality if we sold total tickets  142  =  280840.0000001186\n",
            "Total seats: 142 , Net Sales : 429160\n",
            "--> Total Penality if we sold total tickets  143  =  289860.0000000361\n",
            "Total seats: 143 , Net Sales : 425140\n",
            "--> Total Penality if we sold total tickets  144  =  298880.0000000074\n",
            "Total seats: 144 , Net Sales : 421120\n",
            "--> Total Penality if we sold total tickets  145  =  307900.0000000067\n",
            "Total seats: 145 , Net Sales : 417100\n",
            "--> Total Penality if we sold total tickets  146  =  316919.9999999936\n",
            "Total seats: 146 , Net Sales : 413080\n",
            "--> Total Penality if we sold total tickets  147  =  325939.99999999325\n",
            "Total seats: 147 , Net Sales : 409060\n",
            "--> Total Penality if we sold total tickets  148  =  334960.0000000062\n",
            "Total seats: 148 , Net Sales : 405040\n",
            "--> Total Penality if we sold total tickets  149  =  343979.9999999913\n",
            "Total seats: 149 , Net Sales : 401020\n"
          ]
        }
      ]
    },
    {
      "cell_type": "code",
      "source": [
        "\n",
        "\n",
        "x = seats_list\n",
        "y = net_sales_list\n",
        "\n",
        "# Use textposition='auto' for direct text\n",
        "fig = go.Figure(data=[go.Bar(\n",
        "            x=x, y=y,\n",
        "            text=y,\n",
        "            textposition='auto',\n",
        "        )])\n",
        "\n",
        "fig.update_layout(\n",
        "    autosize=False,\n",
        "    width=1200,\n",
        "    height=600,\n",
        "    xaxis=dict(\n",
        "        title_text=\"Seats with overbooking (Flight Capacity = 100) \",\n",
        "        tickvals=seats_list\n",
        "    ),\n",
        "    yaxis=dict(\n",
        "        title_text=\"Net Sales\"\n",
        "    )\n",
        ")\n",
        "\n",
        "fig.show()"
      ],
      "metadata": {
        "colab": {
          "base_uri": "https://localhost:8080/",
          "height": 637
        },
        "id": "iAHhdyvS2SDS",
        "outputId": "1f5a3cef-fa00-4347-beb0-1816ad8328ae"
      },
      "execution_count": 17,
      "outputs": [
        {
          "output_type": "display_data",
          "data": {
            "text/html": [
              "<html>\n",
              "<head><meta charset=\"utf-8\" /></head>\n",
              "<body>\n",
              "    <div>            <script src=\"https://cdnjs.cloudflare.com/ajax/libs/mathjax/2.7.5/MathJax.js?config=TeX-AMS-MML_SVG\"></script><script type=\"text/javascript\">if (window.MathJax) {MathJax.Hub.Config({SVG: {font: \"STIX-Web\"}});}</script>                <script type=\"text/javascript\">window.PlotlyConfig = {MathJaxConfig: 'local'};</script>\n",
              "        <script src=\"https://cdn.plot.ly/plotly-2.8.3.min.js\"></script>                <div id=\"63e3040d-dd2b-4d39-80d2-524d4ca38aa3\" class=\"plotly-graph-div\" style=\"height:600px; width:1200px;\"></div>            <script type=\"text/javascript\">                                    window.PLOTLYENV=window.PLOTLYENV || {};                                    if (document.getElementById(\"63e3040d-dd2b-4d39-80d2-524d4ca38aa3\")) {                    Plotly.newPlot(                        \"63e3040d-dd2b-4d39-80d2-524d4ca38aa3\",                        [{\"text\":[\"500000.0\",\"504999.70086977904\",\"509996.470263393\",\"514978.73178146576\",\"519912.6530582352\",\"524724.5877360759\",\"529287.8649306599\",\"533424.6945414589\",\"536928.6759379209\",\"539603.1515374405\",\"541302.1283197564\",\"541959.0772655354\",\"541594.8389315053\",\"540304.8943283326\",\"538233.3688013039\",\"535543.6127635071\",\"532393.3986412839\",\"528918.8493558473\",\"525227.4152389157\",\"521397.82548432326\",\"517484.149845835\",\"513521.44372845924\",\"509531.2805429024\",\"505526.3179975742\",\"501513.6623589892\",\"497497.14286432334\",\"493478.7452264802\",\"489459.4626942641\",\"485439.7754703335\",\"481419.9083609559\",\"477399.9634418096\",\"473379.98573363514\",\"469359.99455018283\",\"465339.99796067784\",\"461319.99925197114\",\"457299.99973087444\",\"453279.9999049858\",\"449259.9999670354\",\"445239.9999887809\",\"441219.9999962499\",\"437199.99999872845\",\"433179.99999957683\",\"429159.9999998814\",\"425139.9999999639\",\"421119.9999999926\",\"417099.9999999933\",\"413080.0000000064\",\"409060.00000000675\",\"405039.9999999938\",\"401020.0000000087\"],\"textposition\":\"auto\",\"x\":[100,101,102,103,104,105,106,107,108,109,110,111,112,113,114,115,116,117,118,119,120,121,122,123,124,125,126,127,128,129,130,131,132,133,134,135,136,137,138,139,140,141,142,143,144,145,146,147,148,149],\"y\":[500000.0,504999.70086977904,509996.470263393,514978.73178146576,519912.6530582352,524724.5877360759,529287.8649306599,533424.6945414589,536928.6759379209,539603.1515374405,541302.1283197564,541959.0772655354,541594.8389315053,540304.8943283326,538233.3688013039,535543.6127635071,532393.3986412839,528918.8493558473,525227.4152389157,521397.82548432326,517484.149845835,513521.44372845924,509531.2805429024,505526.3179975742,501513.6623589892,497497.14286432334,493478.7452264802,489459.4626942641,485439.7754703335,481419.9083609559,477399.9634418096,473379.98573363514,469359.99455018283,465339.99796067784,461319.99925197114,457299.99973087444,453279.9999049858,449259.9999670354,445239.9999887809,441219.9999962499,437199.99999872845,433179.99999957683,429159.9999998814,425139.9999999639,421119.9999999926,417099.9999999933,413080.0000000064,409060.00000000675,405039.9999999938,401020.0000000087],\"type\":\"bar\"}],                        {\"template\":{\"data\":{\"bar\":[{\"error_x\":{\"color\":\"#2a3f5f\"},\"error_y\":{\"color\":\"#2a3f5f\"},\"marker\":{\"line\":{\"color\":\"#E5ECF6\",\"width\":0.5},\"pattern\":{\"fillmode\":\"overlay\",\"size\":10,\"solidity\":0.2}},\"type\":\"bar\"}],\"barpolar\":[{\"marker\":{\"line\":{\"color\":\"#E5ECF6\",\"width\":0.5},\"pattern\":{\"fillmode\":\"overlay\",\"size\":10,\"solidity\":0.2}},\"type\":\"barpolar\"}],\"carpet\":[{\"aaxis\":{\"endlinecolor\":\"#2a3f5f\",\"gridcolor\":\"white\",\"linecolor\":\"white\",\"minorgridcolor\":\"white\",\"startlinecolor\":\"#2a3f5f\"},\"baxis\":{\"endlinecolor\":\"#2a3f5f\",\"gridcolor\":\"white\",\"linecolor\":\"white\",\"minorgridcolor\":\"white\",\"startlinecolor\":\"#2a3f5f\"},\"type\":\"carpet\"}],\"choropleth\":[{\"colorbar\":{\"outlinewidth\":0,\"ticks\":\"\"},\"type\":\"choropleth\"}],\"contour\":[{\"colorbar\":{\"outlinewidth\":0,\"ticks\":\"\"},\"colorscale\":[[0.0,\"#0d0887\"],[0.1111111111111111,\"#46039f\"],[0.2222222222222222,\"#7201a8\"],[0.3333333333333333,\"#9c179e\"],[0.4444444444444444,\"#bd3786\"],[0.5555555555555556,\"#d8576b\"],[0.6666666666666666,\"#ed7953\"],[0.7777777777777778,\"#fb9f3a\"],[0.8888888888888888,\"#fdca26\"],[1.0,\"#f0f921\"]],\"type\":\"contour\"}],\"contourcarpet\":[{\"colorbar\":{\"outlinewidth\":0,\"ticks\":\"\"},\"type\":\"contourcarpet\"}],\"heatmap\":[{\"colorbar\":{\"outlinewidth\":0,\"ticks\":\"\"},\"colorscale\":[[0.0,\"#0d0887\"],[0.1111111111111111,\"#46039f\"],[0.2222222222222222,\"#7201a8\"],[0.3333333333333333,\"#9c179e\"],[0.4444444444444444,\"#bd3786\"],[0.5555555555555556,\"#d8576b\"],[0.6666666666666666,\"#ed7953\"],[0.7777777777777778,\"#fb9f3a\"],[0.8888888888888888,\"#fdca26\"],[1.0,\"#f0f921\"]],\"type\":\"heatmap\"}],\"heatmapgl\":[{\"colorbar\":{\"outlinewidth\":0,\"ticks\":\"\"},\"colorscale\":[[0.0,\"#0d0887\"],[0.1111111111111111,\"#46039f\"],[0.2222222222222222,\"#7201a8\"],[0.3333333333333333,\"#9c179e\"],[0.4444444444444444,\"#bd3786\"],[0.5555555555555556,\"#d8576b\"],[0.6666666666666666,\"#ed7953\"],[0.7777777777777778,\"#fb9f3a\"],[0.8888888888888888,\"#fdca26\"],[1.0,\"#f0f921\"]],\"type\":\"heatmapgl\"}],\"histogram\":[{\"marker\":{\"pattern\":{\"fillmode\":\"overlay\",\"size\":10,\"solidity\":0.2}},\"type\":\"histogram\"}],\"histogram2d\":[{\"colorbar\":{\"outlinewidth\":0,\"ticks\":\"\"},\"colorscale\":[[0.0,\"#0d0887\"],[0.1111111111111111,\"#46039f\"],[0.2222222222222222,\"#7201a8\"],[0.3333333333333333,\"#9c179e\"],[0.4444444444444444,\"#bd3786\"],[0.5555555555555556,\"#d8576b\"],[0.6666666666666666,\"#ed7953\"],[0.7777777777777778,\"#fb9f3a\"],[0.8888888888888888,\"#fdca26\"],[1.0,\"#f0f921\"]],\"type\":\"histogram2d\"}],\"histogram2dcontour\":[{\"colorbar\":{\"outlinewidth\":0,\"ticks\":\"\"},\"colorscale\":[[0.0,\"#0d0887\"],[0.1111111111111111,\"#46039f\"],[0.2222222222222222,\"#7201a8\"],[0.3333333333333333,\"#9c179e\"],[0.4444444444444444,\"#bd3786\"],[0.5555555555555556,\"#d8576b\"],[0.6666666666666666,\"#ed7953\"],[0.7777777777777778,\"#fb9f3a\"],[0.8888888888888888,\"#fdca26\"],[1.0,\"#f0f921\"]],\"type\":\"histogram2dcontour\"}],\"mesh3d\":[{\"colorbar\":{\"outlinewidth\":0,\"ticks\":\"\"},\"type\":\"mesh3d\"}],\"parcoords\":[{\"line\":{\"colorbar\":{\"outlinewidth\":0,\"ticks\":\"\"}},\"type\":\"parcoords\"}],\"pie\":[{\"automargin\":true,\"type\":\"pie\"}],\"scatter\":[{\"marker\":{\"colorbar\":{\"outlinewidth\":0,\"ticks\":\"\"}},\"type\":\"scatter\"}],\"scatter3d\":[{\"line\":{\"colorbar\":{\"outlinewidth\":0,\"ticks\":\"\"}},\"marker\":{\"colorbar\":{\"outlinewidth\":0,\"ticks\":\"\"}},\"type\":\"scatter3d\"}],\"scattercarpet\":[{\"marker\":{\"colorbar\":{\"outlinewidth\":0,\"ticks\":\"\"}},\"type\":\"scattercarpet\"}],\"scattergeo\":[{\"marker\":{\"colorbar\":{\"outlinewidth\":0,\"ticks\":\"\"}},\"type\":\"scattergeo\"}],\"scattergl\":[{\"marker\":{\"colorbar\":{\"outlinewidth\":0,\"ticks\":\"\"}},\"type\":\"scattergl\"}],\"scattermapbox\":[{\"marker\":{\"colorbar\":{\"outlinewidth\":0,\"ticks\":\"\"}},\"type\":\"scattermapbox\"}],\"scatterpolar\":[{\"marker\":{\"colorbar\":{\"outlinewidth\":0,\"ticks\":\"\"}},\"type\":\"scatterpolar\"}],\"scatterpolargl\":[{\"marker\":{\"colorbar\":{\"outlinewidth\":0,\"ticks\":\"\"}},\"type\":\"scatterpolargl\"}],\"scatterternary\":[{\"marker\":{\"colorbar\":{\"outlinewidth\":0,\"ticks\":\"\"}},\"type\":\"scatterternary\"}],\"surface\":[{\"colorbar\":{\"outlinewidth\":0,\"ticks\":\"\"},\"colorscale\":[[0.0,\"#0d0887\"],[0.1111111111111111,\"#46039f\"],[0.2222222222222222,\"#7201a8\"],[0.3333333333333333,\"#9c179e\"],[0.4444444444444444,\"#bd3786\"],[0.5555555555555556,\"#d8576b\"],[0.6666666666666666,\"#ed7953\"],[0.7777777777777778,\"#fb9f3a\"],[0.8888888888888888,\"#fdca26\"],[1.0,\"#f0f921\"]],\"type\":\"surface\"}],\"table\":[{\"cells\":{\"fill\":{\"color\":\"#EBF0F8\"},\"line\":{\"color\":\"white\"}},\"header\":{\"fill\":{\"color\":\"#C8D4E3\"},\"line\":{\"color\":\"white\"}},\"type\":\"table\"}]},\"layout\":{\"annotationdefaults\":{\"arrowcolor\":\"#2a3f5f\",\"arrowhead\":0,\"arrowwidth\":1},\"autotypenumbers\":\"strict\",\"coloraxis\":{\"colorbar\":{\"outlinewidth\":0,\"ticks\":\"\"}},\"colorscale\":{\"diverging\":[[0,\"#8e0152\"],[0.1,\"#c51b7d\"],[0.2,\"#de77ae\"],[0.3,\"#f1b6da\"],[0.4,\"#fde0ef\"],[0.5,\"#f7f7f7\"],[0.6,\"#e6f5d0\"],[0.7,\"#b8e186\"],[0.8,\"#7fbc41\"],[0.9,\"#4d9221\"],[1,\"#276419\"]],\"sequential\":[[0.0,\"#0d0887\"],[0.1111111111111111,\"#46039f\"],[0.2222222222222222,\"#7201a8\"],[0.3333333333333333,\"#9c179e\"],[0.4444444444444444,\"#bd3786\"],[0.5555555555555556,\"#d8576b\"],[0.6666666666666666,\"#ed7953\"],[0.7777777777777778,\"#fb9f3a\"],[0.8888888888888888,\"#fdca26\"],[1.0,\"#f0f921\"]],\"sequentialminus\":[[0.0,\"#0d0887\"],[0.1111111111111111,\"#46039f\"],[0.2222222222222222,\"#7201a8\"],[0.3333333333333333,\"#9c179e\"],[0.4444444444444444,\"#bd3786\"],[0.5555555555555556,\"#d8576b\"],[0.6666666666666666,\"#ed7953\"],[0.7777777777777778,\"#fb9f3a\"],[0.8888888888888888,\"#fdca26\"],[1.0,\"#f0f921\"]]},\"colorway\":[\"#636efa\",\"#EF553B\",\"#00cc96\",\"#ab63fa\",\"#FFA15A\",\"#19d3f3\",\"#FF6692\",\"#B6E880\",\"#FF97FF\",\"#FECB52\"],\"font\":{\"color\":\"#2a3f5f\"},\"geo\":{\"bgcolor\":\"white\",\"lakecolor\":\"white\",\"landcolor\":\"#E5ECF6\",\"showlakes\":true,\"showland\":true,\"subunitcolor\":\"white\"},\"hoverlabel\":{\"align\":\"left\"},\"hovermode\":\"closest\",\"mapbox\":{\"style\":\"light\"},\"paper_bgcolor\":\"white\",\"plot_bgcolor\":\"#E5ECF6\",\"polar\":{\"angularaxis\":{\"gridcolor\":\"white\",\"linecolor\":\"white\",\"ticks\":\"\"},\"bgcolor\":\"#E5ECF6\",\"radialaxis\":{\"gridcolor\":\"white\",\"linecolor\":\"white\",\"ticks\":\"\"}},\"scene\":{\"xaxis\":{\"backgroundcolor\":\"#E5ECF6\",\"gridcolor\":\"white\",\"gridwidth\":2,\"linecolor\":\"white\",\"showbackground\":true,\"ticks\":\"\",\"zerolinecolor\":\"white\"},\"yaxis\":{\"backgroundcolor\":\"#E5ECF6\",\"gridcolor\":\"white\",\"gridwidth\":2,\"linecolor\":\"white\",\"showbackground\":true,\"ticks\":\"\",\"zerolinecolor\":\"white\"},\"zaxis\":{\"backgroundcolor\":\"#E5ECF6\",\"gridcolor\":\"white\",\"gridwidth\":2,\"linecolor\":\"white\",\"showbackground\":true,\"ticks\":\"\",\"zerolinecolor\":\"white\"}},\"shapedefaults\":{\"line\":{\"color\":\"#2a3f5f\"}},\"ternary\":{\"aaxis\":{\"gridcolor\":\"white\",\"linecolor\":\"white\",\"ticks\":\"\"},\"baxis\":{\"gridcolor\":\"white\",\"linecolor\":\"white\",\"ticks\":\"\"},\"bgcolor\":\"#E5ECF6\",\"caxis\":{\"gridcolor\":\"white\",\"linecolor\":\"white\",\"ticks\":\"\"}},\"title\":{\"x\":0.05},\"xaxis\":{\"automargin\":true,\"gridcolor\":\"white\",\"linecolor\":\"white\",\"ticks\":\"\",\"title\":{\"standoff\":15},\"zerolinecolor\":\"white\",\"zerolinewidth\":2},\"yaxis\":{\"automargin\":true,\"gridcolor\":\"white\",\"linecolor\":\"white\",\"ticks\":\"\",\"title\":{\"standoff\":15},\"zerolinecolor\":\"white\",\"zerolinewidth\":2}}},\"xaxis\":{\"title\":{\"text\":\"Seats with overbooking (Flight Capacity = 100) \"},\"tickvals\":[100,101,102,103,104,105,106,107,108,109,110,111,112,113,114,115,116,117,118,119,120,121,122,123,124,125,126,127,128,129,130,131,132,133,134,135,136,137,138,139,140,141,142,143,144,145,146,147,148,149]},\"yaxis\":{\"title\":{\"text\":\"Net Sales\"}},\"autosize\":false,\"width\":1200,\"height\":600},                        {\"responsive\": true}                    ).then(function(){\n",
              "                            \n",
              "var gd = document.getElementById('63e3040d-dd2b-4d39-80d2-524d4ca38aa3');\n",
              "var x = new MutationObserver(function (mutations, observer) {{\n",
              "        var display = window.getComputedStyle(gd).display;\n",
              "        if (!display || display === 'none') {{\n",
              "            console.log([gd, 'removed!']);\n",
              "            Plotly.purge(gd);\n",
              "            observer.disconnect();\n",
              "        }}\n",
              "}});\n",
              "\n",
              "// Listen for the removal of the full notebook cells\n",
              "var notebookContainer = gd.closest('#notebook-container');\n",
              "if (notebookContainer) {{\n",
              "    x.observe(notebookContainer, {childList: true});\n",
              "}}\n",
              "\n",
              "// Listen for the clearing of the current output cell\n",
              "var outputEl = gd.closest('.output');\n",
              "if (outputEl) {{\n",
              "    x.observe(outputEl, {childList: true});\n",
              "}}\n",
              "\n",
              "                        })                };                            </script>        </div>\n",
              "</body>\n",
              "</html>"
            ]
          },
          "metadata": {}
        }
      ]
    },
    {
      "cell_type": "markdown",
      "source": [
        "**At seats = 111, we have highest net sales that is 549.9591k Rs. It means we can overbook by 11 seats per flight.**"
      ],
      "metadata": {
        "id": "2rZUo5Tw4b78"
      }
    }
  ]
}